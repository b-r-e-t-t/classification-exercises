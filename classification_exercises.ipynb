{
 "cells": [
  {
   "cell_type": "markdown",
   "id": "6c8883a2",
   "metadata": {},
   "source": [
    "# Prepare Data\n",
    "\n",
    "Plan - Acquire - **Prepare** - Explore - Model - Deliver\n",
    "\n",
    "**Goal**: Prepare, tidy, and clean the data so that it is ready for exploration and analysis.\n",
    "\n",
    "**Input:** 1 or more dataframes acquired through the \"acquire\" step.\n",
    "\n",
    "**Output:** 1 dataset split into 3 samples in the form of dataframes: train, validate & test.\n",
    "\n",
    "**Artifact:** `prepare.py`"
   ]
  },
  {
   "cell_type": "code",
   "execution_count": 153,
   "id": "e47a1789",
   "metadata": {},
   "outputs": [],
   "source": [
    "import pandas as pd\n",
    "import numpy as np\n",
    "import matplotlib.pyplot as plt\n",
    "import seaborn as sns\n",
    "from scipy import stats\n",
    "\n",
    "# import splitting and imputing functions\n",
    "from sklearn.model_selection import train_test_split\n",
    "from sklearn.impute import SimpleImputer\n",
    "\n",
    "# turn off pink boxes for demo\n",
    "import warnings\n",
    "warnings.filterwarnings(\"ignore\")  #turns off pink box warnings when working w/ data frames\n",
    "\n",
    "# import our own acquire module\n",
    "import acquire"
   ]
  },
  {
   "cell_type": "code",
   "execution_count": 101,
   "id": "3ceb4641",
   "metadata": {},
   "outputs": [],
   "source": [
    "# Use the function defined in acquire.py to load the iris data.\n",
    "\n",
    "iris_df = acquire.get_iris_data()"
   ]
  },
  {
   "cell_type": "code",
   "execution_count": 102,
   "id": "6a2f3dba",
   "metadata": {},
   "outputs": [],
   "source": [
    "# Drop the species_id and measurement_id columns.\n",
    "iris_df = iris_df.drop(columns=['species_id'])"
   ]
  },
  {
   "cell_type": "code",
   "execution_count": 103,
   "id": "11be510e",
   "metadata": {},
   "outputs": [],
   "source": [
    "# Rename the species_name column to just species.\n",
    "iris_df = iris_df.rename(columns={\"species_name\": \"species\"})"
   ]
  },
  {
   "cell_type": "code",
   "execution_count": 104,
   "id": "865fc4bf",
   "metadata": {},
   "outputs": [],
   "source": [
    "# Create dummy variables of the species name and concatenate onto the iris dataframe.\n",
    "\n",
    "dummy_df = pd.get_dummies(iris_df[['species']], dummy_na=False, drop_first=False)"
   ]
  },
  {
   "cell_type": "code",
   "execution_count": 105,
   "id": "0107404a",
   "metadata": {},
   "outputs": [],
   "source": [
    "iris_df = pd.concat([iris_df, dummy_df], axis=1)"
   ]
  },
  {
   "cell_type": "code",
   "execution_count": 122,
   "id": "65f3cd1d",
   "metadata": {},
   "outputs": [],
   "source": [
    "# Create a function named prep_iris that accepts the untransformed iris data, \n",
    "# and returns the data with the transformations above applied.\n",
    "\n",
    "def prep_iris():\n",
    "    # Use the function defined in acquire.py to load the iris data.\n",
    "    iris_df = acquire.get_iris_data()\n",
    "    \n",
    "    # Drop the species_id and measurement_id columns.\n",
    "    iris_df = iris_df.drop(columns=['species_id'])\n",
    "    \n",
    "    # Rename the species_name column to just species.\n",
    "    iris_df = iris_df.rename(columns={\"species_name\": \"species\"})\n",
    "    \n",
    "    # Create dummy variables of the species name and concatenate onto the iris dataframe.\n",
    "    dummy_df = pd.get_dummies(iris_df[['species']], dummy_na=False, drop_first=False)\n",
    "    \n",
    "    iris_df = pd.concat([iris_df, dummy_df], axis=1)\n",
    "    \n",
    "    return iris_df"
   ]
  },
  {
   "cell_type": "code",
   "execution_count": 125,
   "id": "a11c6c28",
   "metadata": {},
   "outputs": [],
   "source": [
    "def train_validate_test_split(df, target, seed=123):\n",
    "    '''\n",
    "    This function takes in a dataframe, the name of the target variable\n",
    "    (for stratification purposes), and an integer for a setting a seed\n",
    "    and splits the data into train, validate and test. \n",
    "    Test is 20% of the original dataset, validate is .30*.80= 24% of the \n",
    "    original dataset, and train is .70*.80= 56% of the original dataset. \n",
    "    The function returns, in this order, train, validate and test dataframes. \n",
    "    '''\n",
    "    train_validate, test = train_test_split(df, test_size=0.2, \n",
    "                                            random_state=seed, \n",
    "                                            stratify=df[target])\n",
    "    train, validate = train_test_split(train_validate, test_size=0.3, \n",
    "                                       random_state=seed,\n",
    "                                       stratify=train_validate[target])\n",
    "    return train, validate, test"
   ]
  },
  {
   "cell_type": "code",
   "execution_count": 129,
   "id": "1f281cd1",
   "metadata": {},
   "outputs": [],
   "source": [
    "iris_train, iris_validate, iris_test = train_validate_test_split(iris_df, 'species')"
   ]
  },
  {
   "cell_type": "code",
   "execution_count": 130,
   "id": "d2b85390",
   "metadata": {},
   "outputs": [
    {
     "name": "stdout",
     "output_type": "stream",
     "text": [
      "<class 'pandas.core.frame.DataFrame'>\n",
      "Int64Index: 84 entries, 79 to 73\n",
      "Data columns (total 8 columns):\n",
      " #   Column              Non-Null Count  Dtype  \n",
      "---  ------              --------------  -----  \n",
      " 0   species             84 non-null     object \n",
      " 1   sepal_length        84 non-null     float64\n",
      " 2   sepal_width         84 non-null     float64\n",
      " 3   petal_length        84 non-null     float64\n",
      " 4   petal_width         84 non-null     float64\n",
      " 5   species_setosa      84 non-null     uint8  \n",
      " 6   species_versicolor  84 non-null     uint8  \n",
      " 7   species_virginica   84 non-null     uint8  \n",
      "dtypes: float64(4), object(1), uint8(3)\n",
      "memory usage: 4.2+ KB\n"
     ]
    }
   ],
   "source": [
    "iris_train.info()"
   ]
  },
  {
   "cell_type": "code",
   "execution_count": 131,
   "id": "950f276c",
   "metadata": {},
   "outputs": [
    {
     "data": {
      "text/html": [
       "<div>\n",
       "<style scoped>\n",
       "    .dataframe tbody tr th:only-of-type {\n",
       "        vertical-align: middle;\n",
       "    }\n",
       "\n",
       "    .dataframe tbody tr th {\n",
       "        vertical-align: top;\n",
       "    }\n",
       "\n",
       "    .dataframe thead th {\n",
       "        text-align: right;\n",
       "    }\n",
       "</style>\n",
       "<table border=\"1\" class=\"dataframe\">\n",
       "  <thead>\n",
       "    <tr style=\"text-align: right;\">\n",
       "      <th></th>\n",
       "      <th>sepal_length</th>\n",
       "      <th>sepal_width</th>\n",
       "      <th>petal_length</th>\n",
       "      <th>petal_width</th>\n",
       "      <th>species_setosa</th>\n",
       "      <th>species_versicolor</th>\n",
       "      <th>species_virginica</th>\n",
       "    </tr>\n",
       "  </thead>\n",
       "  <tbody>\n",
       "    <tr>\n",
       "      <th>count</th>\n",
       "      <td>84.000000</td>\n",
       "      <td>84.000000</td>\n",
       "      <td>84.000000</td>\n",
       "      <td>84.000000</td>\n",
       "      <td>84.000000</td>\n",
       "      <td>84.000000</td>\n",
       "      <td>84.000000</td>\n",
       "    </tr>\n",
       "    <tr>\n",
       "      <th>mean</th>\n",
       "      <td>5.870238</td>\n",
       "      <td>3.075000</td>\n",
       "      <td>3.771429</td>\n",
       "      <td>1.203571</td>\n",
       "      <td>0.333333</td>\n",
       "      <td>0.333333</td>\n",
       "      <td>0.333333</td>\n",
       "    </tr>\n",
       "    <tr>\n",
       "      <th>std</th>\n",
       "      <td>0.769099</td>\n",
       "      <td>0.448256</td>\n",
       "      <td>1.734940</td>\n",
       "      <td>0.752577</td>\n",
       "      <td>0.474236</td>\n",
       "      <td>0.474236</td>\n",
       "      <td>0.474236</td>\n",
       "    </tr>\n",
       "    <tr>\n",
       "      <th>min</th>\n",
       "      <td>4.400000</td>\n",
       "      <td>2.200000</td>\n",
       "      <td>1.200000</td>\n",
       "      <td>0.100000</td>\n",
       "      <td>0.000000</td>\n",
       "      <td>0.000000</td>\n",
       "      <td>0.000000</td>\n",
       "    </tr>\n",
       "    <tr>\n",
       "      <th>25%</th>\n",
       "      <td>5.375000</td>\n",
       "      <td>2.800000</td>\n",
       "      <td>1.600000</td>\n",
       "      <td>0.400000</td>\n",
       "      <td>0.000000</td>\n",
       "      <td>0.000000</td>\n",
       "      <td>0.000000</td>\n",
       "    </tr>\n",
       "    <tr>\n",
       "      <th>50%</th>\n",
       "      <td>5.800000</td>\n",
       "      <td>3.000000</td>\n",
       "      <td>4.250000</td>\n",
       "      <td>1.300000</td>\n",
       "      <td>0.000000</td>\n",
       "      <td>0.000000</td>\n",
       "      <td>0.000000</td>\n",
       "    </tr>\n",
       "    <tr>\n",
       "      <th>75%</th>\n",
       "      <td>6.400000</td>\n",
       "      <td>3.400000</td>\n",
       "      <td>5.100000</td>\n",
       "      <td>1.800000</td>\n",
       "      <td>1.000000</td>\n",
       "      <td>1.000000</td>\n",
       "      <td>1.000000</td>\n",
       "    </tr>\n",
       "    <tr>\n",
       "      <th>max</th>\n",
       "      <td>7.900000</td>\n",
       "      <td>4.400000</td>\n",
       "      <td>6.900000</td>\n",
       "      <td>2.500000</td>\n",
       "      <td>1.000000</td>\n",
       "      <td>1.000000</td>\n",
       "      <td>1.000000</td>\n",
       "    </tr>\n",
       "  </tbody>\n",
       "</table>\n",
       "</div>"
      ],
      "text/plain": [
       "       sepal_length  sepal_width  petal_length  petal_width  species_setosa  \\\n",
       "count     84.000000    84.000000     84.000000    84.000000       84.000000   \n",
       "mean       5.870238     3.075000      3.771429     1.203571        0.333333   \n",
       "std        0.769099     0.448256      1.734940     0.752577        0.474236   \n",
       "min        4.400000     2.200000      1.200000     0.100000        0.000000   \n",
       "25%        5.375000     2.800000      1.600000     0.400000        0.000000   \n",
       "50%        5.800000     3.000000      4.250000     1.300000        0.000000   \n",
       "75%        6.400000     3.400000      5.100000     1.800000        1.000000   \n",
       "max        7.900000     4.400000      6.900000     2.500000        1.000000   \n",
       "\n",
       "       species_versicolor  species_virginica  \n",
       "count           84.000000          84.000000  \n",
       "mean             0.333333           0.333333  \n",
       "std              0.474236           0.474236  \n",
       "min              0.000000           0.000000  \n",
       "25%              0.000000           0.000000  \n",
       "50%              0.000000           0.000000  \n",
       "75%              1.000000           1.000000  \n",
       "max              1.000000           1.000000  "
      ]
     },
     "execution_count": 131,
     "metadata": {},
     "output_type": "execute_result"
    }
   ],
   "source": [
    "iris_train.describe()"
   ]
  },
  {
   "cell_type": "code",
   "execution_count": 135,
   "id": "b849c927",
   "metadata": {},
   "outputs": [
    {
     "data": {
      "image/png": "[encoded data removed]",
      "text/plain": [
       "<Figure size 432x288 with 1 Axes>"
      ]
     },
     "metadata": {
      "needs_background": "light"
     },
     "output_type": "display_data"
    },
    {
     "data": {
      "image/png": "[encoded data removed]",
      "text/plain": [
       "<Figure size 432x288 with 1 Axes>"
      ]
     },
     "metadata": {
      "needs_background": "light"
     },
     "output_type": "display_data"
    },
    {
     "data": {
      "image/png": "[encoded data removed]",
      "text/plain": [
       "<Figure size 432x288 with 1 Axes>"
      ]
     },
     "metadata": {
      "needs_background": "light"
     },
     "output_type": "display_data"
    },
    {
     "data": {
      "image/png": "[encoded data removed]",
      "text/plain": [
       "<Figure size 432x288 with 1 Axes>"
      ]
     },
     "metadata": {
      "needs_background": "light"
     },
     "output_type": "display_data"
    },
    {
     "data": {
      "image/png": "[encoded data removed]",
      "text/plain": [
       "<Figure size 432x288 with 1 Axes>"
      ]
     },
     "metadata": {
      "needs_background": "light"
     },
     "output_type": "display_data"
    },
    {
     "data": {
      "image/png": "[encoded data removed]",
      "text/plain": [
       "<Figure size 432x288 with 1 Axes>"
      ]
     },
     "metadata": {
      "needs_background": "light"
     },
     "output_type": "display_data"
    },
    {
     "data": {
      "image/png": "[encoded data removed]",
      "text/plain": [
       "<Figure size 432x288 with 1 Axes>"
      ]
     },
     "metadata": {
      "needs_background": "light"
     },
     "output_type": "display_data"
    },
    {
     "data": {
      "image/png": "[encoded data removed]",
      "text/plain": [
       "<Figure size 432x288 with 1 Axes>"
      ]
     },
     "metadata": {
      "needs_background": "light"
     },
     "output_type": "display_data"
    }
   ],
   "source": [
    "# For each measurement type (quantitative variable): create a histogram, boxplot, & compute \n",
    "# descriptive statistics (using .describe()).\n",
    "\n",
    "num_cols = iris_train.columns[[iris_train[col].dtype == 'float64' for col in iris_train.columns]]\n",
    "for col in num_cols:\n",
    "    plt.hist(iris_train[col])\n",
    "    plt.title(col)\n",
    "    plt.show()\n",
    "    plt.boxplot(iris_train[col])\n",
    "    plt.title(col)\n",
    "    plt.show()"
   ]
  },
  {
   "cell_type": "code",
   "execution_count": 142,
   "id": "a651c722",
   "metadata": {},
   "outputs": [
    {
     "data": {
      "image/png": "[encoded data removed]",
      "text/plain": [
       "<Figure size 432x288 with 1 Axes>"
      ]
     },
     "metadata": {
      "needs_background": "light"
     },
     "output_type": "display_data"
    }
   ],
   "source": [
    "# Visualize each measurement type (y-axis) with the species variable (x-axis) using barplots, \n",
    "# adding a horizontal line showing the overall mean of the metric (y-axis).\n",
    "\n",
    "plt.title(\"Mean sepal length\")\n",
    "sns.barplot(x=\"species\", y=\"sepal_length\", data=iris_train)\n",
    "mean_sepal_length = iris_train.sepal_length.mean()\n",
    "plt.axhline(mean_sepal_length, label=\"Mean sepal length\", color='black', linestyle='dashed')\n",
    "plt.xlabel('')\n",
    "plt.legend()\n",
    "plt.show()"
   ]
  },
  {
   "cell_type": "code",
   "execution_count": 141,
   "id": "9efaf765",
   "metadata": {},
   "outputs": [
    {
     "data": {
      "image/png": "[encoded data removed]",
      "text/plain": [
       "<Figure size 432x288 with 1 Axes>"
      ]
     },
     "metadata": {
      "needs_background": "light"
     },
     "output_type": "display_data"
    }
   ],
   "source": [
    "plt.title(\"Mean sepal width\")\n",
    "sns.barplot(x=\"species\", y=\"sepal_width\", data=iris_train)\n",
    "mean_sepal_width = iris_train.sepal_width.mean()\n",
    "plt.axhline(mean_sepal_width, label=\"Mean sepal width\", color='black', linestyle='dashed')\n",
    "plt.xlabel('')\n",
    "plt.legend()\n",
    "plt.show()"
   ]
  },
  {
   "cell_type": "code",
   "execution_count": 143,
   "id": "5cef3e7c",
   "metadata": {},
   "outputs": [
    {
     "data": {
      "image/png": "[encoded data removed]",
      "text/plain": [
       "<Figure size 432x288 with 1 Axes>"
      ]
     },
     "metadata": {
      "needs_background": "light"
     },
     "output_type": "display_data"
    }
   ],
   "source": [
    "plt.title(\"Mean petal length\")\n",
    "sns.barplot(x=\"species\", y=\"petal_length\", data=iris_train)\n",
    "mean_petal_length = iris_train.petal_length.mean()\n",
    "plt.axhline(mean_petal_length, label=\"Mean petal length\", color='black', linestyle='dashed')\n",
    "plt.xlabel('')\n",
    "plt.legend()\n",
    "plt.show()"
   ]
  },
  {
   "cell_type": "code",
   "execution_count": 146,
   "id": "be30dff1",
   "metadata": {},
   "outputs": [
    {
     "data": {
      "image/png": "[encoded data removed]",
      "text/plain": [
       "<Figure size 432x288 with 1 Axes>"
      ]
     },
     "metadata": {
      "needs_background": "light"
     },
     "output_type": "display_data"
    }
   ],
   "source": [
    "plt.title(\"Mean petal width\")\n",
    "sns.barplot(x=\"species\", y=\"petal_width\", data=iris_train)\n",
    "mean_petal_width = iris_train.petal_width.mean()\n",
    "plt.axhline(mean_petal_width, label=\"Mean petal width\", color='black', linestyle='dashed')\n",
    "plt.xlabel('')\n",
    "plt.legend()\n",
    "plt.show()"
   ]
  },
  {
   "cell_type": "code",
   "execution_count": 149,
   "id": "a59739da",
   "metadata": {},
   "outputs": [
    {
     "name": "stdout",
     "output_type": "stream",
     "text": [
      "count    28.000000\n",
      "mean      6.625000\n",
      "std       0.532378\n",
      "min       5.800000\n",
      "25%       6.300000\n",
      "50%       6.450000\n",
      "75%       6.900000\n",
      "max       7.900000\n",
      "Name: sepal_length, dtype: float64\n",
      "count    28.000000\n",
      "mean      2.960714\n",
      "std       0.318956\n",
      "min       2.200000\n",
      "25%       2.800000\n",
      "50%       3.000000\n",
      "75%       3.100000\n",
      "max       3.800000\n",
      "Name: sepal_width, dtype: float64\n",
      "count    28.000000\n",
      "mean      5.535714\n",
      "std       0.496815\n",
      "min       4.800000\n",
      "25%       5.100000\n",
      "50%       5.500000\n",
      "75%       5.800000\n",
      "max       6.900000\n",
      "Name: petal_length, dtype: float64\n",
      "count    28.000000\n",
      "mean      2.021429\n",
      "std       0.293582\n",
      "min       1.500000\n",
      "25%       1.800000\n",
      "50%       2.000000\n",
      "75%       2.300000\n",
      "max       2.500000\n",
      "Name: petal_width, dtype: float64\n"
     ]
    }
   ],
   "source": [
    "# For each measurement type, compute the descriptive statistics for each species.\n",
    "print(iris_train[iris_train.species == 'virginica'].sepal_length.describe())\n",
    "print(iris_train[iris_train.species == 'virginica'].sepal_width.describe())\n",
    "print(iris_train[iris_train.species == 'virginica'].petal_length.describe())\n",
    "print(iris_train[iris_train.species == 'virginica'].petal_width.describe())"
   ]
  },
  {
   "cell_type": "code",
   "execution_count": 150,
   "id": "f027f312",
   "metadata": {},
   "outputs": [
    {
     "name": "stdout",
     "output_type": "stream",
     "text": [
      "count    28.000000\n",
      "mean      5.089286\n",
      "std       0.360390\n",
      "min       4.400000\n",
      "25%       4.875000\n",
      "50%       5.000000\n",
      "75%       5.400000\n",
      "max       5.800000\n",
      "Name: sepal_length, dtype: float64\n",
      "count    28.000000\n",
      "mean      3.467857\n",
      "std       0.427788\n",
      "min       2.300000\n",
      "25%       3.275000\n",
      "50%       3.400000\n",
      "75%       3.800000\n",
      "max       4.400000\n",
      "Name: sepal_width, dtype: float64\n",
      "count    28.000000\n",
      "mean      1.507143\n",
      "std       0.184448\n",
      "min       1.200000\n",
      "25%       1.400000\n",
      "50%       1.500000\n",
      "75%       1.600000\n",
      "max       1.900000\n",
      "Name: petal_length, dtype: float64\n",
      "count    28.00000\n",
      "mean      0.27500\n",
      "std       0.12057\n",
      "min       0.10000\n",
      "25%       0.20000\n",
      "50%       0.20000\n",
      "75%       0.40000\n",
      "max       0.60000\n",
      "Name: petal_width, dtype: float64\n"
     ]
    }
   ],
   "source": [
    "print(iris_train[iris_train.species == 'setosa'].sepal_length.describe())\n",
    "print(iris_train[iris_train.species == 'setosa'].sepal_width.describe())\n",
    "print(iris_train[iris_train.species == 'setosa'].petal_length.describe())\n",
    "print(iris_train[iris_train.species == 'setosa'].petal_width.describe())"
   ]
  },
  {
   "cell_type": "code",
   "execution_count": 157,
   "id": "26868217",
   "metadata": {},
   "outputs": [
    {
     "name": "stdout",
     "output_type": "stream",
     "text": [
      "Comparing sepal_length between virginica and versicolor\n",
      "676.5 1.541014598267054e-06\n",
      "------------------\n",
      "\n",
      "\n",
      "Comparing sepal_width between virginica and versicolor\n",
      "510.0 0.026286295699228482\n",
      "------------------\n",
      "\n",
      "\n",
      "Comparing petal_length between virginica and versicolor\n",
      "776.5 1.4739917857575313e-10\n",
      "------------------\n",
      "\n",
      "\n",
      "Comparing petal_width between virginica and versicolor\n",
      "767.0 3.235595834904965e-10\n",
      "------------------\n",
      "\n",
      "\n"
     ]
    }
   ],
   "source": [
    "# For virginica & versicolor: Compare the mean petal_width using the Mann-Whitney test \n",
    "# (scipy.stats.mannwhitneyu) to see if there is a significant difference between the two groups. \n",
    "# Do the same for the other measurement types.\n",
    "\n",
    "test_var = ['sepal_length', 'sepal_width', 'petal_length', 'petal_width']\n",
    "for var in test_var:\n",
    "    t, p = stats.mannwhitneyu(virginica[var], versicolor[var], alternative=\"greater\")\n",
    "    print(f'Comparing {var} between virginica and versicolor')\n",
    "    print(t, p)\n",
    "    print('------------------')\n",
    "    print('\\n')"
   ]
  },
  {
   "cell_type": "code",
   "execution_count": 161,
   "id": "ff85258e",
   "metadata": {},
   "outputs": [
    {
     "data": {
      "text/plain": [
       "<matplotlib.legend.Legend at 0x7f87780b62b0>"
      ]
     },
     "execution_count": 161,
     "metadata": {},
     "output_type": "execute_result"
    },
    {
     "data": {
      "image/png": "[encoded data removed]",
      "text/plain": [
       "<Figure size 432x288 with 1 Axes>"
      ]
     },
     "metadata": {
      "needs_background": "light"
     },
     "output_type": "display_data"
    }
   ],
   "source": [
    "# Visualize the interaction of each measurement type with the others using a \n",
    "# pairplot (or scatter matrix or something similar) and add color to represent species.\n",
    "\n",
    "plt.scatter(iris_train.sepal_length, iris_train.sepal_width, iris_train.petal_length, iris_train.petal_width, label=\"species\")\n",
    "plt.legend()"
   ]
  },
  {
   "cell_type": "code",
   "execution_count": 164,
   "id": "a0487671",
   "metadata": {},
   "outputs": [
    {
     "data": {
      "text/plain": [
       "<seaborn.axisgrid.FacetGrid at 0x7f8798ff1160>"
      ]
     },
     "execution_count": 164,
     "metadata": {},
     "output_type": "execute_result"
    },
    {
     "data": {
      "image/png": "[encoded data removed]",
      "text/plain": [
       "<Figure size 1164.75x360 with 3 Axes>"
      ]
     },
     "metadata": {
      "needs_background": "light"
     },
     "output_type": "display_data"
    }
   ],
   "source": [
    "# Visualize two numeric variables by means of the species. Hint: sns.relplot with hue or col\n",
    "\n",
    "sns.relplot(data=iris_train, x=(iris_train.sepal_length * iris_train.sepal_width),\n",
    "                                y=(iris_train.petal_length * iris_train.petal_width), \n",
    "                                kind='scatter', hue='species', col='species')"
   ]
  },
  {
   "cell_type": "code",
   "execution_count": null,
   "id": "7dc23a45",
   "metadata": {},
   "outputs": [],
   "source": []
  },
  {
   "cell_type": "code",
   "execution_count": null,
   "id": "9f82856d",
   "metadata": {},
   "outputs": [],
   "source": []
  },
  {
   "cell_type": "code",
   "execution_count": 192,
   "id": "b3d99f83",
   "metadata": {},
   "outputs": [],
   "source": [
    "# Use the function defined in acquire.py to load the Titanic data.\n",
    "\n",
    "titanic_df = acquire.get_titanic_data()"
   ]
  },
  {
   "cell_type": "code",
   "execution_count": 193,
   "id": "67834b95",
   "metadata": {},
   "outputs": [],
   "source": [
    "# Drop any unnecessary, unhelpful, or duplicated columns.\n",
    "titanic_df = titanic_df.drop(columns=['passenger_id', 'sibsp', 'parch', 'embarked', 'deck'])"
   ]
  },
  {
   "cell_type": "code",
   "execution_count": 194,
   "id": "27e241b6",
   "metadata": {},
   "outputs": [],
   "source": [
    "# Encode the categorical columns. \n",
    "# Create dummy variables of the categorical columns and concatenate them onto the dataframe.\n",
    "\n",
    "dummy_df = pd.get_dummies(titanic_df[['sex', 'embark_town']], dummy_na=False, drop_first=False)\n",
    "titanic_df = pd.concat([titanic_df, dummy_df], axis=1)"
   ]
  },
  {
   "cell_type": "code",
   "execution_count": 195,
   "id": "3bd05956",
   "metadata": {},
   "outputs": [],
   "source": [
    "def prep_titanic():\n",
    "    # Use the function defined in acquire.py to load the Titanic data.\n",
    "    titanic_df = acquire.get_titanic_data()\n",
    "    \n",
    "    # Drop any unnecessary, unhelpful, or duplicated columns.\n",
    "    titanic_df = titanic_df.drop(columns=['passenger_id', 'sibsp', 'parch', 'embarked', 'deck'])\n",
    "    \n",
    "    # Encode the categorical columns. \n",
    "    # Create dummy variables of the categorical columns and concatenate them onto the dataframe.\n",
    "    dummy_df = pd.get_dummies(titanic_df[['sex', 'embark_town']], dummy_na=False, drop_first=False)\n",
    "    titanic_df = pd.concat([titanic_df, dummy_df], axis=1)\n",
    "    \n",
    "    return titanic_df"
   ]
  },
  {
   "cell_type": "code",
   "execution_count": 196,
   "id": "f2265a46",
   "metadata": {},
   "outputs": [],
   "source": [
    "titanic_train, titanic_validate, titanic_test = train_validate_test_split(titanic_df, 'survived')"
   ]
  },
  {
   "cell_type": "code",
   "execution_count": 197,
   "id": "359fa8d6",
   "metadata": {},
   "outputs": [
    {
     "name": "stdout",
     "output_type": "stream",
     "text": [
      "<class 'pandas.core.frame.DataFrame'>\n",
      "Int64Index: 498 entries, 583 to 744\n",
      "Data columns (total 13 columns):\n",
      " #   Column                   Non-Null Count  Dtype  \n",
      "---  ------                   --------------  -----  \n",
      " 0   survived                 498 non-null    int64  \n",
      " 1   pclass                   498 non-null    int64  \n",
      " 2   sex                      498 non-null    object \n",
      " 3   age                      401 non-null    float64\n",
      " 4   fare                     498 non-null    float64\n",
      " 5   class                    498 non-null    object \n",
      " 6   embark_town              497 non-null    object \n",
      " 7   alone                    498 non-null    int64  \n",
      " 8   sex_female               498 non-null    uint8  \n",
      " 9   sex_male                 498 non-null    uint8  \n",
      " 10  embark_town_Cherbourg    498 non-null    uint8  \n",
      " 11  embark_town_Queenstown   498 non-null    uint8  \n",
      " 12  embark_town_Southampton  498 non-null    uint8  \n",
      "dtypes: float64(2), int64(3), object(3), uint8(5)\n",
      "memory usage: 37.4+ KB\n"
     ]
    }
   ],
   "source": [
    "titanic_train.info()"
   ]
  },
  {
   "cell_type": "code",
   "execution_count": 198,
   "id": "29933fd6",
   "metadata": {},
   "outputs": [
    {
     "data": {
      "text/html": [
       "<div>\n",
       "<style scoped>\n",
       "    .dataframe tbody tr th:only-of-type {\n",
       "        vertical-align: middle;\n",
       "    }\n",
       "\n",
       "    .dataframe tbody tr th {\n",
       "        vertical-align: top;\n",
       "    }\n",
       "\n",
       "    .dataframe thead th {\n",
       "        text-align: right;\n",
       "    }\n",
       "</style>\n",
       "<table border=\"1\" class=\"dataframe\">\n",
       "  <thead>\n",
       "    <tr style=\"text-align: right;\">\n",
       "      <th></th>\n",
       "      <th>survived</th>\n",
       "      <th>pclass</th>\n",
       "      <th>age</th>\n",
       "      <th>fare</th>\n",
       "      <th>alone</th>\n",
       "      <th>sex_female</th>\n",
       "      <th>sex_male</th>\n",
       "      <th>embark_town_Cherbourg</th>\n",
       "      <th>embark_town_Queenstown</th>\n",
       "      <th>embark_town_Southampton</th>\n",
       "    </tr>\n",
       "  </thead>\n",
       "  <tbody>\n",
       "    <tr>\n",
       "      <th>count</th>\n",
       "      <td>498.000000</td>\n",
       "      <td>498.000000</td>\n",
       "      <td>401.000000</td>\n",
       "      <td>498.000000</td>\n",
       "      <td>498.000000</td>\n",
       "      <td>498.000000</td>\n",
       "      <td>498.000000</td>\n",
       "      <td>498.000000</td>\n",
       "      <td>498.000000</td>\n",
       "      <td>498.000000</td>\n",
       "    </tr>\n",
       "    <tr>\n",
       "      <th>mean</th>\n",
       "      <td>0.383534</td>\n",
       "      <td>2.305221</td>\n",
       "      <td>29.678105</td>\n",
       "      <td>31.130028</td>\n",
       "      <td>0.632530</td>\n",
       "      <td>0.351406</td>\n",
       "      <td>0.648594</td>\n",
       "      <td>0.204819</td>\n",
       "      <td>0.082329</td>\n",
       "      <td>0.710843</td>\n",
       "    </tr>\n",
       "    <tr>\n",
       "      <th>std</th>\n",
       "      <td>0.486735</td>\n",
       "      <td>0.826627</td>\n",
       "      <td>14.570127</td>\n",
       "      <td>47.162206</td>\n",
       "      <td>0.482601</td>\n",
       "      <td>0.477889</td>\n",
       "      <td>0.477889</td>\n",
       "      <td>0.403975</td>\n",
       "      <td>0.275142</td>\n",
       "      <td>0.453827</td>\n",
       "    </tr>\n",
       "    <tr>\n",
       "      <th>min</th>\n",
       "      <td>0.000000</td>\n",
       "      <td>1.000000</td>\n",
       "      <td>0.420000</td>\n",
       "      <td>0.000000</td>\n",
       "      <td>0.000000</td>\n",
       "      <td>0.000000</td>\n",
       "      <td>0.000000</td>\n",
       "      <td>0.000000</td>\n",
       "      <td>0.000000</td>\n",
       "      <td>0.000000</td>\n",
       "    </tr>\n",
       "    <tr>\n",
       "      <th>25%</th>\n",
       "      <td>0.000000</td>\n",
       "      <td>2.000000</td>\n",
       "      <td>21.000000</td>\n",
       "      <td>7.895800</td>\n",
       "      <td>0.000000</td>\n",
       "      <td>0.000000</td>\n",
       "      <td>0.000000</td>\n",
       "      <td>0.000000</td>\n",
       "      <td>0.000000</td>\n",
       "      <td>0.000000</td>\n",
       "    </tr>\n",
       "    <tr>\n",
       "      <th>50%</th>\n",
       "      <td>0.000000</td>\n",
       "      <td>3.000000</td>\n",
       "      <td>28.000000</td>\n",
       "      <td>13.500000</td>\n",
       "      <td>1.000000</td>\n",
       "      <td>0.000000</td>\n",
       "      <td>1.000000</td>\n",
       "      <td>0.000000</td>\n",
       "      <td>0.000000</td>\n",
       "      <td>1.000000</td>\n",
       "    </tr>\n",
       "    <tr>\n",
       "      <th>75%</th>\n",
       "      <td>1.000000</td>\n",
       "      <td>3.000000</td>\n",
       "      <td>38.000000</td>\n",
       "      <td>30.392700</td>\n",
       "      <td>1.000000</td>\n",
       "      <td>1.000000</td>\n",
       "      <td>1.000000</td>\n",
       "      <td>0.000000</td>\n",
       "      <td>0.000000</td>\n",
       "      <td>1.000000</td>\n",
       "    </tr>\n",
       "    <tr>\n",
       "      <th>max</th>\n",
       "      <td>1.000000</td>\n",
       "      <td>3.000000</td>\n",
       "      <td>80.000000</td>\n",
       "      <td>512.329200</td>\n",
       "      <td>1.000000</td>\n",
       "      <td>1.000000</td>\n",
       "      <td>1.000000</td>\n",
       "      <td>1.000000</td>\n",
       "      <td>1.000000</td>\n",
       "      <td>1.000000</td>\n",
       "    </tr>\n",
       "  </tbody>\n",
       "</table>\n",
       "</div>"
      ],
      "text/plain": [
       "         survived      pclass         age        fare       alone  sex_female  \\\n",
       "count  498.000000  498.000000  401.000000  498.000000  498.000000  498.000000   \n",
       "mean     0.383534    2.305221   29.678105   31.130028    0.632530    0.351406   \n",
       "std      0.486735    0.826627   14.570127   47.162206    0.482601    0.477889   \n",
       "min      0.000000    1.000000    0.420000    0.000000    0.000000    0.000000   \n",
       "25%      0.000000    2.000000   21.000000    7.895800    0.000000    0.000000   \n",
       "50%      0.000000    3.000000   28.000000   13.500000    1.000000    0.000000   \n",
       "75%      1.000000    3.000000   38.000000   30.392700    1.000000    1.000000   \n",
       "max      1.000000    3.000000   80.000000  512.329200    1.000000    1.000000   \n",
       "\n",
       "         sex_male  embark_town_Cherbourg  embark_town_Queenstown  \\\n",
       "count  498.000000             498.000000              498.000000   \n",
       "mean     0.648594               0.204819                0.082329   \n",
       "std      0.477889               0.403975                0.275142   \n",
       "min      0.000000               0.000000                0.000000   \n",
       "25%      0.000000               0.000000                0.000000   \n",
       "50%      1.000000               0.000000                0.000000   \n",
       "75%      1.000000               0.000000                0.000000   \n",
       "max      1.000000               1.000000                1.000000   \n",
       "\n",
       "       embark_town_Southampton  \n",
       "count               498.000000  \n",
       "mean                  0.710843  \n",
       "std                   0.453827  \n",
       "min                   0.000000  \n",
       "25%                   0.000000  \n",
       "50%                   1.000000  \n",
       "75%                   1.000000  \n",
       "max                   1.000000  "
      ]
     },
     "execution_count": 198,
     "metadata": {},
     "output_type": "execute_result"
    }
   ],
   "source": [
    "titanic_train.describe()"
   ]
  },
  {
   "cell_type": "code",
   "execution_count": 199,
   "id": "4411dee7",
   "metadata": {},
   "outputs": [
    {
     "data": {
      "image/png": "[encoded data removed]",
      "text/plain": [
       "<Figure size 432x288 with 1 Axes>"
      ]
     },
     "metadata": {
      "needs_background": "light"
     },
     "output_type": "display_data"
    }
   ],
   "source": [
    "# Determine drivers of the target variable\n",
    "# Determine if certain columns should be dropped\n",
    "# Determine if it would be valuable to bin some numeric columns\n",
    "# Determine if it would be valuable to combine multiple columns into one.\n",
    "\n",
    "plt.title(\"It pays to travel first and second class\")\n",
    "sns.barplot(x=\"pclass\", y=\"survived\", data=titanic_train)\n",
    "population_survival_rate = titanic_train.survived.mean()\n",
    "plt.axhline(population_survival_rate, label=\"Population survival rate\")\n",
    "plt.legend()\n",
    "plt.show()"
   ]
  },
  {
   "cell_type": "code",
   "execution_count": 200,
   "id": "dabd2ef6",
   "metadata": {},
   "outputs": [
    {
     "name": "stdout",
     "output_type": "stream",
     "text": [
      "Reject the null hypothesis that survival and class of ticket are independent\n",
      "Sufficient evidence to move forward understanding that there is a relationship between class of ticket and survival\n"
     ]
    }
   ],
   "source": [
    "alpha = 0.05\n",
    "null_hypothesis = \"survival and class of ticket are independent\"\n",
    "alternative_hypothesis = \"there is a relationship between class of ticket and survival\"\n",
    "\n",
    "# Setup a crosstab of observed survival to pclass\n",
    "observed = pd.crosstab(titanic_train.survived, titanic_train.pclass)\n",
    "\n",
    "chi2, p, degf, expected = stats.chi2_contingency(observed)\n",
    "\n",
    "if p < alpha:\n",
    "    print(\"Reject the null hypothesis that\", null_hypothesis)\n",
    "    print(\"Sufficient evidence to move forward understanding that\", alternative_hypothesis)\n",
    "else:\n",
    "    print(\"Fail to reject the null\")\n",
    "    print(\"Insufficient evidence to reject the null\")"
   ]
  },
  {
   "cell_type": "code",
   "execution_count": 201,
   "id": "12408b16",
   "metadata": {},
   "outputs": [
    {
     "data": {
      "image/png": "[encoded data removed]",
      "text/plain": [
       "<Figure size 432x288 with 1 Axes>"
      ]
     },
     "metadata": {
      "needs_background": "light"
     },
     "output_type": "display_data"
    }
   ],
   "source": [
    "plt.title(\"Better not travel alone.\")\n",
    "sns.barplot(x=\"alone\", y=\"survived\", data=titanic_train)\n",
    "population_survival_rate = titanic_train.survived.mean()\n",
    "plt.axhline(population_survival_rate, label=\"Population survival rate\")\n",
    "plt.legend()\n",
    "plt.show()"
   ]
  },
  {
   "cell_type": "code",
   "execution_count": 202,
   "id": "612c9ab7",
   "metadata": {},
   "outputs": [
    {
     "name": "stdout",
     "output_type": "stream",
     "text": [
      "Reject the null hypothesis that survival and traveling alone are independent\n",
      "Sufficient evidence to move forward understanding that there is a relationship between survival and traveling alone\n"
     ]
    }
   ],
   "source": [
    "alpha = 0.05\n",
    "null_hypothesis = \"survival and traveling alone are independent\"\n",
    "alternative_hypothesis = \"there is a relationship between survival and traveling alone\"\n",
    "\n",
    "# Setup a crosstab of observed survival to pclass\n",
    "observed = pd.crosstab(titanic_train.survived, titanic_train.alone)\n",
    "\n",
    "chi2, p, degf, expected = stats.chi2_contingency(observed)\n",
    "\n",
    "if p < alpha:\n",
    "    print(\"Reject the null hypothesis that\", null_hypothesis)\n",
    "    print(\"Sufficient evidence to move forward understanding that\", alternative_hypothesis)\n",
    "else:\n",
    "    print(\"Fail to reject the null\")\n",
    "    print(\"Insufficient evidence to reject the null\")"
   ]
  },
  {
   "cell_type": "code",
   "execution_count": 203,
   "id": "4b54b959",
   "metadata": {},
   "outputs": [
    {
     "data": {
      "image/png": "[encoded data removed]",
      "text/plain": [
       "<Figure size 432x288 with 1 Axes>"
      ]
     },
     "metadata": {
      "needs_background": "light"
     },
     "output_type": "display_data"
    }
   ],
   "source": [
    "plt.title(\"Women more likely to survive\")\n",
    "sns.barplot(x=\"sex_female\", y=\"survived\", data=titanic_train)\n",
    "population_survival_rate = titanic_train.survived.mean()\n",
    "plt.axhline(population_survival_rate, label=\"Population survival rate\")\n",
    "plt.legend()\n",
    "plt.show()"
   ]
  },
  {
   "cell_type": "code",
   "execution_count": 204,
   "id": "667e4cbc",
   "metadata": {},
   "outputs": [
    {
     "name": "stdout",
     "output_type": "stream",
     "text": [
      "Reject the null hypothesis that survival and gender are independent\n",
      "Sufficient evidence to move forward understanding that there is a relationship between survival and gender\n"
     ]
    }
   ],
   "source": [
    "alpha = 0.05\n",
    "\n",
    "null_hypothesis = \"survival and gender are independent\"\n",
    "alternative_hypothesis = \"there is a relationship between survival and gender\"\n",
    "\n",
    "# Setup a crosstab of observed survival to pclass\n",
    "observed = pd.crosstab(titanic_train.survived, titanic_train.sex_female)\n",
    "\n",
    "chi2, p, degf, expected = stats.chi2_contingency(observed)\n",
    "\n",
    "if p < alpha:\n",
    "    print(\"Reject the null hypothesis that\", null_hypothesis)\n",
    "    print(\"Sufficient evidence to move forward understanding that\", alternative_hypothesis)\n",
    "else:\n",
    "    print(\"Fail to reject the null\")\n",
    "    print(\"Insufficient evidence to reject the null\")"
   ]
  },
  {
   "cell_type": "code",
   "execution_count": null,
   "id": "a67695a1",
   "metadata": {},
   "outputs": [],
   "source": [
    "# Subset the data into survived and not-surviving status\n",
    "not_survived = train[train.survived == 0]\n",
    "survived = train[train.survived == 1]"
   ]
  },
  {
   "cell_type": "code",
   "execution_count": 169,
   "id": "18ed78ab",
   "metadata": {},
   "outputs": [
    {
     "data": {
      "image/png": "[encoded data removed]",
      "text/plain": [
       "<Figure size 432x288 with 1 Axes>"
      ]
     },
     "metadata": {
      "needs_background": "light"
     },
     "output_type": "display_data"
    }
   ],
   "source": [
    "plt.title(\"What's the relationship of fare and survival?\")\n",
    "plt.hist(survived.fare, label=\"survived\")\n",
    "plt.hist(not_survived.fare, label=\"perished\")\n",
    "plt.legend()\n",
    "plt.show()"
   ]
  },
  {
   "cell_type": "code",
   "execution_count": 170,
   "id": "d41e28d5",
   "metadata": {},
   "outputs": [],
   "source": [
    "# Use Mann Whitney u-test when t-test assumptions do not hold.\n",
    "# The distributions are not normal and the variances are not equal, so we'll do mann-whitney\n",
    "t, p = stats.mannwhitneyu(survived.fare, not_survived.fare, alternative=\"greater\")"
   ]
  },
  {
   "cell_type": "code",
   "execution_count": 205,
   "id": "af298a54",
   "metadata": {},
   "outputs": [
    {
     "name": "stdout",
     "output_type": "stream",
     "text": [
      "We find evidence to reject the null hypothesis that survival and gender are independent\n",
      "We find evidence evidence to move forward with the understaind that there is a relationship between survival and gender\n"
     ]
    }
   ],
   "source": [
    "if p < alpha:\n",
    "    print(\"We find evidence to reject the null hypothesis that\", null_hypothesis)\n",
    "    print(\"We find evidence evidence to move forward with the understaind that\", alternative_hypothesis)\n",
    "else:\n",
    "    print(\"We fail to reject the null hypothesis\")\n",
    "    print(\"There is no evidence that\", null_hypothesis)"
   ]
  },
  {
   "cell_type": "code",
   "execution_count": 207,
   "id": "6938639f",
   "metadata": {},
   "outputs": [
    {
     "data": {
      "image/png": "[encoded data removed]",
      "text/plain": [
       "<Figure size 432x288 with 1 Axes>"
      ]
     },
     "metadata": {
      "needs_background": "light"
     },
     "output_type": "display_data"
    }
   ],
   "source": [
    "# At each class ticket, women have better survival rates\n",
    "plt.title(\"In each class of ticket, survivors trend younger\")\n",
    "sns.boxplot(x=\"pclass\", y=\"age\", data=titanic_train, hue=\"survived\")\n",
    "population_survival_rate = train.survived.mean()\n",
    "plt.axhline(population_survival_rate)\n",
    "plt.show()"
   ]
  },
  {
   "cell_type": "code",
   "execution_count": 209,
   "id": "69df1174",
   "metadata": {},
   "outputs": [
    {
     "data": {
      "image/png": "[encoded data removed]",
      "text/plain": [
       "<Figure size 1130.88x360 with 3 Axes>"
      ]
     },
     "metadata": {
      "needs_background": "light"
     },
     "output_type": "display_data"
    }
   ],
   "source": [
    "# No discernable relationship between age and fare, but the pclass relates to survival\n",
    "rel = sns.relplot(x='age', y='fare', data=titanic_train, col=\"pclass\", hue=\"survived\")\n",
    "rel.fig.suptitle('Age to Fare, colum by pclass') # One way to title a relplot\n",
    "plt.tight_layout()"
   ]
  },
  {
   "cell_type": "code",
   "execution_count": 212,
   "id": "0e91678e",
   "metadata": {},
   "outputs": [
    {
     "data": {
      "image/png": "[encoded data removed]",
      "text/plain": [
       "<Figure size 432x288 with 1 Axes>"
      ]
     },
     "metadata": {
      "needs_background": "light"
     },
     "output_type": "display_data"
    }
   ],
   "source": [
    "plt.title(\"Women more likely to survive at all ticket classes\")\n",
    "sns.barplot(x=\"pclass\", y=\"survived\", hue=\"sex_female\", data=titanic_train)\n",
    "population_survival_rate = train.survived.mean()\n",
    "plt.show()"
   ]
  },
  {
   "cell_type": "code",
   "execution_count": 213,
   "id": "1b5b92df",
   "metadata": {},
   "outputs": [
    {
     "data": {
      "image/png": "[encoded data removed]",
      "text/plain": [
       "<Figure size 402.375x360 with 1 Axes>"
      ]
     },
     "metadata": {
      "needs_background": "light"
     },
     "output_type": "display_data"
    }
   ],
   "source": [
    "cat = sns.catplot(data=train, x=\"pclass\", y=\"survived\", hue=\"alone\", kind=\"bar\")\n",
    "cat.fig.suptitle(\"Traveling alone, at any class ticket is riskier\")\n",
    "plt.tight_layout()"
   ]
  },
  {
   "cell_type": "markdown",
   "id": "42cae3fc",
   "metadata": {},
   "source": [
    "# Examples from Class\n",
    "# STEP 1: Summarizing"
   ]
  },
  {
   "cell_type": "code",
   "execution_count": 5,
   "id": "453b50b9",
   "metadata": {},
   "outputs": [
    {
     "data": {
      "text/plain": [
       "(891, 13)"
      ]
     },
     "execution_count": 5,
     "metadata": {},
     "output_type": "execute_result"
    }
   ],
   "source": [
    "# rows & columns\n",
    "df.shape"
   ]
  },
  {
   "cell_type": "code",
   "execution_count": 6,
   "id": "fc579da6",
   "metadata": {},
   "outputs": [
    {
     "data": {
      "text/html": [
       "<div>\n",
       "<style scoped>\n",
       "    .dataframe tbody tr th:only-of-type {\n",
       "        vertical-align: middle;\n",
       "    }\n",
       "\n",
       "    .dataframe tbody tr th {\n",
       "        vertical-align: top;\n",
       "    }\n",
       "\n",
       "    .dataframe thead th {\n",
       "        text-align: right;\n",
       "    }\n",
       "</style>\n",
       "<table border=\"1\" class=\"dataframe\">\n",
       "  <thead>\n",
       "    <tr style=\"text-align: right;\">\n",
       "      <th></th>\n",
       "      <th>passenger_id</th>\n",
       "      <th>survived</th>\n",
       "      <th>pclass</th>\n",
       "      <th>sex</th>\n",
       "      <th>age</th>\n",
       "      <th>sibsp</th>\n",
       "      <th>parch</th>\n",
       "      <th>fare</th>\n",
       "      <th>embarked</th>\n",
       "      <th>class</th>\n",
       "      <th>deck</th>\n",
       "      <th>embark_town</th>\n",
       "      <th>alone</th>\n",
       "    </tr>\n",
       "  </thead>\n",
       "  <tbody>\n",
       "    <tr>\n",
       "      <th>0</th>\n",
       "      <td>0</td>\n",
       "      <td>0</td>\n",
       "      <td>3</td>\n",
       "      <td>male</td>\n",
       "      <td>22.0</td>\n",
       "      <td>1</td>\n",
       "      <td>0</td>\n",
       "      <td>7.2500</td>\n",
       "      <td>S</td>\n",
       "      <td>Third</td>\n",
       "      <td>None</td>\n",
       "      <td>Southampton</td>\n",
       "      <td>0</td>\n",
       "    </tr>\n",
       "    <tr>\n",
       "      <th>1</th>\n",
       "      <td>1</td>\n",
       "      <td>1</td>\n",
       "      <td>1</td>\n",
       "      <td>female</td>\n",
       "      <td>38.0</td>\n",
       "      <td>1</td>\n",
       "      <td>0</td>\n",
       "      <td>71.2833</td>\n",
       "      <td>C</td>\n",
       "      <td>First</td>\n",
       "      <td>C</td>\n",
       "      <td>Cherbourg</td>\n",
       "      <td>0</td>\n",
       "    </tr>\n",
       "    <tr>\n",
       "      <th>2</th>\n",
       "      <td>2</td>\n",
       "      <td>1</td>\n",
       "      <td>3</td>\n",
       "      <td>female</td>\n",
       "      <td>26.0</td>\n",
       "      <td>0</td>\n",
       "      <td>0</td>\n",
       "      <td>7.9250</td>\n",
       "      <td>S</td>\n",
       "      <td>Third</td>\n",
       "      <td>None</td>\n",
       "      <td>Southampton</td>\n",
       "      <td>1</td>\n",
       "    </tr>\n",
       "    <tr>\n",
       "      <th>3</th>\n",
       "      <td>3</td>\n",
       "      <td>1</td>\n",
       "      <td>1</td>\n",
       "      <td>female</td>\n",
       "      <td>35.0</td>\n",
       "      <td>1</td>\n",
       "      <td>0</td>\n",
       "      <td>53.1000</td>\n",
       "      <td>S</td>\n",
       "      <td>First</td>\n",
       "      <td>C</td>\n",
       "      <td>Southampton</td>\n",
       "      <td>0</td>\n",
       "    </tr>\n",
       "    <tr>\n",
       "      <th>4</th>\n",
       "      <td>4</td>\n",
       "      <td>0</td>\n",
       "      <td>3</td>\n",
       "      <td>male</td>\n",
       "      <td>35.0</td>\n",
       "      <td>0</td>\n",
       "      <td>0</td>\n",
       "      <td>8.0500</td>\n",
       "      <td>S</td>\n",
       "      <td>Third</td>\n",
       "      <td>None</td>\n",
       "      <td>Southampton</td>\n",
       "      <td>1</td>\n",
       "    </tr>\n",
       "  </tbody>\n",
       "</table>\n",
       "</div>"
      ],
      "text/plain": [
       "   passenger_id  survived  pclass     sex   age  sibsp  parch     fare  \\\n",
       "0             0         0       3    male  22.0      1      0   7.2500   \n",
       "1             1         1       1  female  38.0      1      0  71.2833   \n",
       "2             2         1       3  female  26.0      0      0   7.9250   \n",
       "3             3         1       1  female  35.0      1      0  53.1000   \n",
       "4             4         0       3    male  35.0      0      0   8.0500   \n",
       "\n",
       "  embarked  class  deck  embark_town  alone  \n",
       "0        S  Third  None  Southampton      0  \n",
       "1        C  First     C    Cherbourg      0  \n",
       "2        S  Third  None  Southampton      1  \n",
       "3        S  First     C  Southampton      0  \n",
       "4        S  Third  None  Southampton      1  "
      ]
     },
     "execution_count": 6,
     "metadata": {},
     "output_type": "execute_result"
    }
   ],
   "source": [
    "# view first n rows\n",
    "df.head()"
   ]
  },
  {
   "cell_type": "code",
   "execution_count": 7,
   "id": "4d48a280",
   "metadata": {},
   "outputs": [
    {
     "name": "stdout",
     "output_type": "stream",
     "text": [
      "<class 'pandas.core.frame.DataFrame'>\n",
      "RangeIndex: 891 entries, 0 to 890\n",
      "Data columns (total 13 columns):\n",
      " #   Column        Non-Null Count  Dtype  \n",
      "---  ------        --------------  -----  \n",
      " 0   passenger_id  891 non-null    int64  \n",
      " 1   survived      891 non-null    int64  \n",
      " 2   pclass        891 non-null    int64  \n",
      " 3   sex           891 non-null    object \n",
      " 4   age           714 non-null    float64\n",
      " 5   sibsp         891 non-null    int64  \n",
      " 6   parch         891 non-null    int64  \n",
      " 7   fare          891 non-null    float64\n",
      " 8   embarked      889 non-null    object \n",
      " 9   class         891 non-null    object \n",
      " 10  deck          203 non-null    object \n",
      " 11  embark_town   889 non-null    object \n",
      " 12  alone         891 non-null    int64  \n",
      "dtypes: float64(2), int64(6), object(5)\n",
      "memory usage: 90.6+ KB\n"
     ]
    }
   ],
   "source": [
    "# Get information about the dataframe: column names, rows, datatypes, non-missing values.\n",
    "df.info()"
   ]
  },
  {
   "cell_type": "code",
   "execution_count": 8,
   "id": "a478777e",
   "metadata": {},
   "outputs": [
    {
     "data": {
      "text/html": [
       "<div>\n",
       "<style scoped>\n",
       "    .dataframe tbody tr th:only-of-type {\n",
       "        vertical-align: middle;\n",
       "    }\n",
       "\n",
       "    .dataframe tbody tr th {\n",
       "        vertical-align: top;\n",
       "    }\n",
       "\n",
       "    .dataframe thead th {\n",
       "        text-align: right;\n",
       "    }\n",
       "</style>\n",
       "<table border=\"1\" class=\"dataframe\">\n",
       "  <thead>\n",
       "    <tr style=\"text-align: right;\">\n",
       "      <th></th>\n",
       "      <th>passenger_id</th>\n",
       "      <th>survived</th>\n",
       "      <th>pclass</th>\n",
       "      <th>age</th>\n",
       "      <th>sibsp</th>\n",
       "      <th>parch</th>\n",
       "      <th>fare</th>\n",
       "      <th>alone</th>\n",
       "    </tr>\n",
       "  </thead>\n",
       "  <tbody>\n",
       "    <tr>\n",
       "      <th>count</th>\n",
       "      <td>891.000000</td>\n",
       "      <td>891.000000</td>\n",
       "      <td>891.000000</td>\n",
       "      <td>714.000000</td>\n",
       "      <td>891.000000</td>\n",
       "      <td>891.000000</td>\n",
       "      <td>891.000000</td>\n",
       "      <td>891.000000</td>\n",
       "    </tr>\n",
       "    <tr>\n",
       "      <th>mean</th>\n",
       "      <td>445.000000</td>\n",
       "      <td>0.383838</td>\n",
       "      <td>2.308642</td>\n",
       "      <td>29.699118</td>\n",
       "      <td>0.523008</td>\n",
       "      <td>0.381594</td>\n",
       "      <td>32.204208</td>\n",
       "      <td>0.602694</td>\n",
       "    </tr>\n",
       "    <tr>\n",
       "      <th>std</th>\n",
       "      <td>257.353842</td>\n",
       "      <td>0.486592</td>\n",
       "      <td>0.836071</td>\n",
       "      <td>14.526497</td>\n",
       "      <td>1.102743</td>\n",
       "      <td>0.806057</td>\n",
       "      <td>49.693429</td>\n",
       "      <td>0.489615</td>\n",
       "    </tr>\n",
       "    <tr>\n",
       "      <th>min</th>\n",
       "      <td>0.000000</td>\n",
       "      <td>0.000000</td>\n",
       "      <td>1.000000</td>\n",
       "      <td>0.420000</td>\n",
       "      <td>0.000000</td>\n",
       "      <td>0.000000</td>\n",
       "      <td>0.000000</td>\n",
       "      <td>0.000000</td>\n",
       "    </tr>\n",
       "    <tr>\n",
       "      <th>25%</th>\n",
       "      <td>222.500000</td>\n",
       "      <td>0.000000</td>\n",
       "      <td>2.000000</td>\n",
       "      <td>20.125000</td>\n",
       "      <td>0.000000</td>\n",
       "      <td>0.000000</td>\n",
       "      <td>7.910400</td>\n",
       "      <td>0.000000</td>\n",
       "    </tr>\n",
       "    <tr>\n",
       "      <th>50%</th>\n",
       "      <td>445.000000</td>\n",
       "      <td>0.000000</td>\n",
       "      <td>3.000000</td>\n",
       "      <td>28.000000</td>\n",
       "      <td>0.000000</td>\n",
       "      <td>0.000000</td>\n",
       "      <td>14.454200</td>\n",
       "      <td>1.000000</td>\n",
       "    </tr>\n",
       "    <tr>\n",
       "      <th>75%</th>\n",
       "      <td>667.500000</td>\n",
       "      <td>1.000000</td>\n",
       "      <td>3.000000</td>\n",
       "      <td>38.000000</td>\n",
       "      <td>1.000000</td>\n",
       "      <td>0.000000</td>\n",
       "      <td>31.000000</td>\n",
       "      <td>1.000000</td>\n",
       "    </tr>\n",
       "    <tr>\n",
       "      <th>max</th>\n",
       "      <td>890.000000</td>\n",
       "      <td>1.000000</td>\n",
       "      <td>3.000000</td>\n",
       "      <td>80.000000</td>\n",
       "      <td>8.000000</td>\n",
       "      <td>6.000000</td>\n",
       "      <td>512.329200</td>\n",
       "      <td>1.000000</td>\n",
       "    </tr>\n",
       "  </tbody>\n",
       "</table>\n",
       "</div>"
      ],
      "text/plain": [
       "       passenger_id    survived      pclass         age       sibsp  \\\n",
       "count    891.000000  891.000000  891.000000  714.000000  891.000000   \n",
       "mean     445.000000    0.383838    2.308642   29.699118    0.523008   \n",
       "std      257.353842    0.486592    0.836071   14.526497    1.102743   \n",
       "min        0.000000    0.000000    1.000000    0.420000    0.000000   \n",
       "25%      222.500000    0.000000    2.000000   20.125000    0.000000   \n",
       "50%      445.000000    0.000000    3.000000   28.000000    0.000000   \n",
       "75%      667.500000    1.000000    3.000000   38.000000    1.000000   \n",
       "max      890.000000    1.000000    3.000000   80.000000    8.000000   \n",
       "\n",
       "            parch        fare       alone  \n",
       "count  891.000000  891.000000  891.000000  \n",
       "mean     0.381594   32.204208    0.602694  \n",
       "std      0.806057   49.693429    0.489615  \n",
       "min      0.000000    0.000000    0.000000  \n",
       "25%      0.000000    7.910400    0.000000  \n",
       "50%      0.000000   14.454200    1.000000  \n",
       "75%      0.000000   31.000000    1.000000  \n",
       "max      6.000000  512.329200    1.000000  "
      ]
     },
     "execution_count": 8,
     "metadata": {},
     "output_type": "execute_result"
    }
   ],
   "source": [
    "# Get summary statistics for numeric columns.\n",
    "df.describe()"
   ]
  },
  {
   "cell_type": "code",
   "execution_count": 9,
   "id": "e1d3fd27",
   "metadata": {},
   "outputs": [
    {
     "data": {
      "text/plain": [
       "(array([549.,   0.,   0.,   0.,   0.,   0.,   0.,   0.,   0., 342.]),\n",
       " array([0. , 0.1, 0.2, 0.3, 0.4, 0.5, 0.6, 0.7, 0.8, 0.9, 1. ]),\n",
       " <BarContainer object of 10 artists>)"
      ]
     },
     "execution_count": 9,
     "metadata": {},
     "output_type": "execute_result"
    },
    {
     "data": {
      "image/png": "[encoded data removed]",
      "text/plain": [
       "<Figure size 432x288 with 1 Axes>"
      ]
     },
     "metadata": {
      "needs_background": "light"
     },
     "output_type": "display_data"
    }
   ],
   "source": [
    "# Check out distributions of numeric columns.\n",
    "plt.hist(df['survived'])"
   ]
  },
  {
   "cell_type": "code",
   "execution_count": 12,
   "id": "09c27d8c",
   "metadata": {},
   "outputs": [
    {
     "data": {
      "text/plain": [
       "Index(['passenger_id', 'survived', 'pclass', 'sibsp', 'parch', 'alone'], dtype='object')"
      ]
     },
     "execution_count": 12,
     "metadata": {},
     "output_type": "execute_result"
    }
   ],
   "source": [
    "num_cols = df.columns[[df[col].dtype == 'int64' for col in df.columns]]\n",
    "num_cols"
   ]
  },
  {
   "cell_type": "code",
   "execution_count": 16,
   "id": "60228e7f",
   "metadata": {},
   "outputs": [
    {
     "data": {
      "image/png": "[encoded data removed]",
      "text/plain": [
       "<Figure size 432x288 with 1 Axes>"
      ]
     },
     "metadata": {
      "needs_background": "light"
     },
     "output_type": "display_data"
    }
   ],
   "source": [
    "for col in num_cols:\n",
    "    plt.hist(df[col])\n",
    "    plt.title(col)\n",
    "    plt.show\n"
   ]
  },
  {
   "cell_type": "code",
   "execution_count": 14,
   "id": "9d08d9d1",
   "metadata": {},
   "outputs": [
    {
     "data": {
      "text/plain": [
       "Index(['sex', 'embarked', 'class', 'deck', 'embark_town'], dtype='object')"
      ]
     },
     "execution_count": 14,
     "metadata": {},
     "output_type": "execute_result"
    }
   ],
   "source": [
    "# Use .describe with object columns.\n",
    "obj_cols = df.columns[[df[col].dtype == 'O' for col in df.columns]]\n",
    "obj_cols"
   ]
  },
  {
   "cell_type": "code",
   "execution_count": 15,
   "id": "08b18ea4",
   "metadata": {},
   "outputs": [
    {
     "name": "stdout",
     "output_type": "stream",
     "text": [
      "male      577\n",
      "female    314\n",
      "Name: sex, dtype: int64\n",
      "male      0.647587\n",
      "female    0.352413\n",
      "Name: sex, dtype: float64\n",
      "------------------------------------------\n",
      "S    644\n",
      "C    168\n",
      "Q     77\n",
      "Name: embarked, dtype: int64\n",
      "S      0.722783\n",
      "C      0.188552\n",
      "Q      0.086420\n",
      "NaN    0.002245\n",
      "Name: embarked, dtype: float64\n",
      "------------------------------------------\n",
      "Third     491\n",
      "First     216\n",
      "Second    184\n",
      "Name: class, dtype: int64\n",
      "Third     0.551066\n",
      "First     0.242424\n",
      "Second    0.206510\n",
      "Name: class, dtype: float64\n",
      "------------------------------------------\n",
      "C    59\n",
      "B    47\n",
      "D    33\n",
      "E    32\n",
      "A    15\n",
      "F    13\n",
      "G     4\n",
      "Name: deck, dtype: int64\n",
      "NaN    0.772166\n",
      "C      0.066218\n",
      "B      0.052750\n",
      "D      0.037037\n",
      "E      0.035915\n",
      "A      0.016835\n",
      "F      0.014590\n",
      "G      0.004489\n",
      "Name: deck, dtype: float64\n",
      "------------------------------------------\n",
      "Southampton    644\n",
      "Cherbourg      168\n",
      "Queenstown      77\n",
      "Name: embark_town, dtype: int64\n",
      "Southampton    0.722783\n",
      "Cherbourg      0.188552\n",
      "Queenstown     0.086420\n",
      "NaN            0.002245\n",
      "Name: embark_town, dtype: float64\n",
      "------------------------------------------\n"
     ]
    }
   ],
   "source": [
    "for col in obj_cols:\n",
    "    print(df[col].value_counts())\n",
    "    print(df[col].value_counts(normalize=True, dropna=False))\n",
    "    print('------------------------------------------')"
   ]
  },
  {
   "cell_type": "code",
   "execution_count": 17,
   "id": "f57a7879",
   "metadata": {},
   "outputs": [
    {
     "data": {
      "text/plain": [
       "(-0.513, 102.466]     838\n",
       "(102.466, 204.932]     33\n",
       "(204.932, 307.398]     17\n",
       "(307.398, 409.863]      0\n",
       "(409.863, 512.329]      3\n",
       "Name: fare, dtype: int64"
      ]
     },
     "execution_count": 17,
     "metadata": {},
     "output_type": "execute_result"
    }
   ],
   "source": [
    "# Create bins for fare using .value_counts.\n",
    "# Using sort = false will sort by bin values as opposed to the frequency counts.\n",
    "df.fare.value_counts(bins=5, sort=False)"
   ]
  },
  {
   "cell_type": "code",
   "execution_count": 20,
   "id": "17b71d38",
   "metadata": {},
   "outputs": [
    {
     "data": {
      "text/plain": [
       "age            177\n",
       "embarked         2\n",
       "deck           688\n",
       "embark_town      2\n",
       "dtype: int64"
      ]
     },
     "execution_count": 20,
     "metadata": {},
     "output_type": "execute_result"
    }
   ],
   "source": [
    "# Find columns with missing values and the total of missing values.\n",
    "missing = df.isnull().sum()\n",
    "missing[missing > 0]"
   ]
  },
  {
   "cell_type": "markdown",
   "id": "d06662f7",
   "metadata": {},
   "source": [
    "# STEP 2: Cleaning the Data"
   ]
  },
  {
   "cell_type": "markdown",
   "id": "c7e3d75f",
   "metadata": {},
   "source": [
    "#### Duplicate Data?"
   ]
  },
  {
   "cell_type": "code",
   "execution_count": 21,
   "id": "3840ac2f",
   "metadata": {},
   "outputs": [
    {
     "name": "stdout",
     "output_type": "stream",
     "text": [
      "(891, 13)\n",
      "(891, 13)\n"
     ]
    }
   ],
   "source": [
    "# Drop duplicates...run just in case; reassign and check the shape of my data\n",
    "print(df.shape)\n",
    "df = df.drop_duplicates()\n",
    "print(df.shape)"
   ]
  },
  {
   "cell_type": "markdown",
   "id": "c02b52a9",
   "metadata": {},
   "source": [
    "#### Missing Data?"
   ]
  },
  {
   "cell_type": "code",
   "execution_count": 23,
   "id": "e9612cc4",
   "metadata": {},
   "outputs": [
    {
     "data": {
      "text/plain": [
       "(891, 9)"
      ]
     },
     "execution_count": 23,
     "metadata": {},
     "output_type": "execute_result"
    }
   ],
   "source": [
    "# Drop columns with too many missing values for now and reassign; check the shape of my data.\n",
    "cols_to_drop = ['deck', 'embarked', 'class', 'age']\n",
    "df = df.drop(columns=cols_to_drop)\n",
    "df.shape"
   ]
  },
  {
   "cell_type": "code",
   "execution_count": 24,
   "id": "6e881c9d",
   "metadata": {},
   "outputs": [
    {
     "data": {
      "text/html": [
       "<div>\n",
       "<style scoped>\n",
       "    .dataframe tbody tr th:only-of-type {\n",
       "        vertical-align: middle;\n",
       "    }\n",
       "\n",
       "    .dataframe tbody tr th {\n",
       "        vertical-align: top;\n",
       "    }\n",
       "\n",
       "    .dataframe thead th {\n",
       "        text-align: right;\n",
       "    }\n",
       "</style>\n",
       "<table border=\"1\" class=\"dataframe\">\n",
       "  <thead>\n",
       "    <tr style=\"text-align: right;\">\n",
       "      <th></th>\n",
       "      <th>passenger_id</th>\n",
       "      <th>survived</th>\n",
       "      <th>pclass</th>\n",
       "      <th>sex</th>\n",
       "      <th>sibsp</th>\n",
       "      <th>parch</th>\n",
       "      <th>fare</th>\n",
       "      <th>embark_town</th>\n",
       "      <th>alone</th>\n",
       "    </tr>\n",
       "  </thead>\n",
       "  <tbody>\n",
       "    <tr>\n",
       "      <th>0</th>\n",
       "      <td>0</td>\n",
       "      <td>0</td>\n",
       "      <td>3</td>\n",
       "      <td>male</td>\n",
       "      <td>1</td>\n",
       "      <td>0</td>\n",
       "      <td>7.2500</td>\n",
       "      <td>Southampton</td>\n",
       "      <td>0</td>\n",
       "    </tr>\n",
       "    <tr>\n",
       "      <th>1</th>\n",
       "      <td>1</td>\n",
       "      <td>1</td>\n",
       "      <td>1</td>\n",
       "      <td>female</td>\n",
       "      <td>1</td>\n",
       "      <td>0</td>\n",
       "      <td>71.2833</td>\n",
       "      <td>Cherbourg</td>\n",
       "      <td>0</td>\n",
       "    </tr>\n",
       "    <tr>\n",
       "      <th>2</th>\n",
       "      <td>2</td>\n",
       "      <td>1</td>\n",
       "      <td>3</td>\n",
       "      <td>female</td>\n",
       "      <td>0</td>\n",
       "      <td>0</td>\n",
       "      <td>7.9250</td>\n",
       "      <td>Southampton</td>\n",
       "      <td>1</td>\n",
       "    </tr>\n",
       "    <tr>\n",
       "      <th>3</th>\n",
       "      <td>3</td>\n",
       "      <td>1</td>\n",
       "      <td>1</td>\n",
       "      <td>female</td>\n",
       "      <td>1</td>\n",
       "      <td>0</td>\n",
       "      <td>53.1000</td>\n",
       "      <td>Southampton</td>\n",
       "      <td>0</td>\n",
       "    </tr>\n",
       "    <tr>\n",
       "      <th>4</th>\n",
       "      <td>4</td>\n",
       "      <td>0</td>\n",
       "      <td>3</td>\n",
       "      <td>male</td>\n",
       "      <td>0</td>\n",
       "      <td>0</td>\n",
       "      <td>8.0500</td>\n",
       "      <td>Southampton</td>\n",
       "      <td>1</td>\n",
       "    </tr>\n",
       "  </tbody>\n",
       "</table>\n",
       "</div>"
      ],
      "text/plain": [
       "   passenger_id  survived  pclass     sex  sibsp  parch     fare  embark_town  \\\n",
       "0             0         0       3    male      1      0   7.2500  Southampton   \n",
       "1             1         1       1  female      1      0  71.2833    Cherbourg   \n",
       "2             2         1       3  female      0      0   7.9250  Southampton   \n",
       "3             3         1       1  female      1      0  53.1000  Southampton   \n",
       "4             4         0       3    male      0      0   8.0500  Southampton   \n",
       "\n",
       "   alone  \n",
       "0      0  \n",
       "1      0  \n",
       "2      1  \n",
       "3      0  \n",
       "4      1  "
      ]
     },
     "execution_count": 24,
     "metadata": {},
     "output_type": "execute_result"
    }
   ],
   "source": [
    "# Validate that the columns are dropped.\n",
    "df.head()"
   ]
  },
  {
   "cell_type": "markdown",
   "id": "3d0d4299",
   "metadata": {},
   "source": [
    "We could fill `embark_town` with most common value, 'Southampton', by hard-coding the value using the `fillna()` function, as below. Or we could use an imputer. We will demonstrate the imputer after the train-validate-test split."
   ]
  },
  {
   "cell_type": "code",
   "execution_count": 25,
   "id": "a99e12bf",
   "metadata": {},
   "outputs": [],
   "source": [
    "# Run .fillna() on the entire df.\n",
    "df['embark_town'] = df.embark_town.fillna(value='Southampton')"
   ]
  },
  {
   "cell_type": "code",
   "execution_count": 26,
   "id": "e5a7111e",
   "metadata": {},
   "outputs": [
    {
     "data": {
      "text/plain": [
       "0"
      ]
     },
     "execution_count": 26,
     "metadata": {},
     "output_type": "execute_result"
    }
   ],
   "source": [
    "# Validate that missing values in embark_town have been handled.\n",
    "df.embark_town.isna().sum()"
   ]
  },
  {
   "cell_type": "markdown",
   "id": "efe9be30",
   "metadata": {},
   "source": [
    "#### Outliers?"
   ]
  },
  {
   "cell_type": "markdown",
   "id": "09987465",
   "metadata": {},
   "source": [
    "There are a few outliers potentially in sibsp, parch, but w/o specific domain knowledge I won't drop or snap them, I'll ignore them for now."
   ]
  },
  {
   "cell_type": "markdown",
   "id": "cf998eae",
   "metadata": {},
   "source": [
    "#### Erroneous Values?"
   ]
  },
  {
   "cell_type": "markdown",
   "id": "7a8b2cc3",
   "metadata": {},
   "source": [
    "No erroneous values detected."
   ]
  },
  {
   "cell_type": "markdown",
   "id": "fc5cf6a6",
   "metadata": {},
   "source": [
    "#### Correct Datatypes?"
   ]
  },
  {
   "cell_type": "code",
   "execution_count": 27,
   "id": "e0e2218a",
   "metadata": {},
   "outputs": [
    {
     "data": {
      "text/plain": [
       "passenger_id      int64\n",
       "survived          int64\n",
       "pclass            int64\n",
       "sex              object\n",
       "sibsp             int64\n",
       "parch             int64\n",
       "fare            float64\n",
       "embark_town      object\n",
       "alone             int64\n",
       "dtype: object"
      ]
     },
     "execution_count": 27,
     "metadata": {},
     "output_type": "execute_result"
    }
   ],
   "source": [
    "df.dtypes"
   ]
  },
  {
   "cell_type": "markdown",
   "id": "46a1b4c2",
   "metadata": {},
   "source": [
    "#### Text Normalization?"
   ]
  },
  {
   "cell_type": "markdown",
   "id": "1cb50a48",
   "metadata": {},
   "source": [
    "No text normalization issues detected."
   ]
  },
  {
   "cell_type": "markdown",
   "id": "16813829",
   "metadata": {},
   "source": [
    "#### Tidy Data?"
   ]
  },
  {
   "cell_type": "code",
   "execution_count": null,
   "id": "4663bf9d",
   "metadata": {},
   "outputs": [],
   "source": [
    "# Each column should only represent one variable\n",
    "# Each row should be one observation (passenger)"
   ]
  },
  {
   "cell_type": "markdown",
   "id": "5b720c45",
   "metadata": {},
   "source": [
    "#### Create New Variables?\n",
    "\n",
    "Get dummy vars for sex and embark_town\n",
    "\n",
    "dummy_na: create a dummy var for na values, also?\n",
    "drop_first: drop first dummy var (since we know if they do not belong to any of the vars listed, then they must belong to the first one that is not listed)."
   ]
  },
  {
   "cell_type": "code",
   "execution_count": 29,
   "id": "6f3c3e3a",
   "metadata": {},
   "outputs": [],
   "source": [
    "dummy_df = pd.get_dummies(df[['sex', 'embark_town']], dummy_na=False, drop_first=[True, False])"
   ]
  },
  {
   "cell_type": "code",
   "execution_count": 30,
   "id": "cb828829",
   "metadata": {},
   "outputs": [
    {
     "data": {
      "text/html": [
       "<div>\n",
       "<style scoped>\n",
       "    .dataframe tbody tr th:only-of-type {\n",
       "        vertical-align: middle;\n",
       "    }\n",
       "\n",
       "    .dataframe tbody tr th {\n",
       "        vertical-align: top;\n",
       "    }\n",
       "\n",
       "    .dataframe thead th {\n",
       "        text-align: right;\n",
       "    }\n",
       "</style>\n",
       "<table border=\"1\" class=\"dataframe\">\n",
       "  <thead>\n",
       "    <tr style=\"text-align: right;\">\n",
       "      <th></th>\n",
       "      <th>passenger_id</th>\n",
       "      <th>survived</th>\n",
       "      <th>pclass</th>\n",
       "      <th>sex</th>\n",
       "      <th>sibsp</th>\n",
       "      <th>parch</th>\n",
       "      <th>fare</th>\n",
       "      <th>embark_town</th>\n",
       "      <th>alone</th>\n",
       "      <th>sex_male</th>\n",
       "      <th>embark_town_Queenstown</th>\n",
       "      <th>embark_town_Southampton</th>\n",
       "    </tr>\n",
       "  </thead>\n",
       "  <tbody>\n",
       "    <tr>\n",
       "      <th>0</th>\n",
       "      <td>0</td>\n",
       "      <td>0</td>\n",
       "      <td>3</td>\n",
       "      <td>male</td>\n",
       "      <td>1</td>\n",
       "      <td>0</td>\n",
       "      <td>7.2500</td>\n",
       "      <td>Southampton</td>\n",
       "      <td>0</td>\n",
       "      <td>1</td>\n",
       "      <td>0</td>\n",
       "      <td>1</td>\n",
       "    </tr>\n",
       "    <tr>\n",
       "      <th>1</th>\n",
       "      <td>1</td>\n",
       "      <td>1</td>\n",
       "      <td>1</td>\n",
       "      <td>female</td>\n",
       "      <td>1</td>\n",
       "      <td>0</td>\n",
       "      <td>71.2833</td>\n",
       "      <td>Cherbourg</td>\n",
       "      <td>0</td>\n",
       "      <td>0</td>\n",
       "      <td>0</td>\n",
       "      <td>0</td>\n",
       "    </tr>\n",
       "    <tr>\n",
       "      <th>2</th>\n",
       "      <td>2</td>\n",
       "      <td>1</td>\n",
       "      <td>3</td>\n",
       "      <td>female</td>\n",
       "      <td>0</td>\n",
       "      <td>0</td>\n",
       "      <td>7.9250</td>\n",
       "      <td>Southampton</td>\n",
       "      <td>1</td>\n",
       "      <td>0</td>\n",
       "      <td>0</td>\n",
       "      <td>1</td>\n",
       "    </tr>\n",
       "    <tr>\n",
       "      <th>3</th>\n",
       "      <td>3</td>\n",
       "      <td>1</td>\n",
       "      <td>1</td>\n",
       "      <td>female</td>\n",
       "      <td>1</td>\n",
       "      <td>0</td>\n",
       "      <td>53.1000</td>\n",
       "      <td>Southampton</td>\n",
       "      <td>0</td>\n",
       "      <td>0</td>\n",
       "      <td>0</td>\n",
       "      <td>1</td>\n",
       "    </tr>\n",
       "    <tr>\n",
       "      <th>4</th>\n",
       "      <td>4</td>\n",
       "      <td>0</td>\n",
       "      <td>3</td>\n",
       "      <td>male</td>\n",
       "      <td>0</td>\n",
       "      <td>0</td>\n",
       "      <td>8.0500</td>\n",
       "      <td>Southampton</td>\n",
       "      <td>1</td>\n",
       "      <td>1</td>\n",
       "      <td>0</td>\n",
       "      <td>1</td>\n",
       "    </tr>\n",
       "  </tbody>\n",
       "</table>\n",
       "</div>"
      ],
      "text/plain": [
       "   passenger_id  survived  pclass     sex  sibsp  parch     fare  embark_town  \\\n",
       "0             0         0       3    male      1      0   7.2500  Southampton   \n",
       "1             1         1       1  female      1      0  71.2833    Cherbourg   \n",
       "2             2         1       3  female      0      0   7.9250  Southampton   \n",
       "3             3         1       1  female      1      0  53.1000  Southampton   \n",
       "4             4         0       3    male      0      0   8.0500  Southampton   \n",
       "\n",
       "   alone  sex_male  embark_town_Queenstown  embark_town_Southampton  \n",
       "0      0         1                       0                        1  \n",
       "1      0         0                       0                        0  \n",
       "2      1         0                       0                        1  \n",
       "3      0         0                       0                        1  \n",
       "4      1         1                       0                        1  "
      ]
     },
     "execution_count": 30,
     "metadata": {},
     "output_type": "execute_result"
    }
   ],
   "source": [
    "# Concatenate the dummy_df dataframe above with the original df and validate.\n",
    "df = pd.concat([df, dummy_df], axis=1)\n",
    "df.head()"
   ]
  },
  {
   "cell_type": "markdown",
   "id": "62eaf5fb",
   "metadata": {},
   "source": [
    "#### Rename Columns?"
   ]
  },
  {
   "cell_type": "code",
   "execution_count": null,
   "id": "a590913b",
   "metadata": {},
   "outputs": [],
   "source": []
  },
  {
   "cell_type": "markdown",
   "id": "e0fd214e",
   "metadata": {},
   "source": [
    "#### Scaling Data?"
   ]
  },
  {
   "cell_type": "code",
   "execution_count": null,
   "id": "5682b1d9",
   "metadata": {},
   "outputs": [],
   "source": [
    "# You want to scale data when you're using methods based on measures\n",
    "# of how far apart data points, like support vector machines\n",
    "# or k-nearest neighbors.\n"
   ]
  },
  {
   "cell_type": "markdown",
   "id": "8b9c092f",
   "metadata": {},
   "source": [
    "### Lets not do that all over again repeatedly...lets make a function"
   ]
  },
  {
   "cell_type": "code",
   "execution_count": 31,
   "id": "c40039af",
   "metadata": {},
   "outputs": [],
   "source": [
    "def clean_data(df):\n",
    "    '''\n",
    "    This function will clean the data\n",
    "    '''\n",
    "    df = df.drop_duplicates()\n",
    "    cols_to_drop = ['deck', 'embarked', 'class', 'age']\n",
    "    df = df.drop(columns=cols_to_drop)\n",
    "    df['embark_town'] = df.embark_town.fillna(value='Southampton')\n",
    "    dummy_df = pd.get_dummies(df[['sex', 'embark_town']], dummy_na=False, drop_first=[True, False])\n",
    "    df = pd.concat([df, dummy_df], axis=1)\n",
    "    return df"
   ]
  },
  {
   "cell_type": "markdown",
   "id": "ae4b38ce",
   "metadata": {},
   "source": [
    "Testing that the function does what we intend for it to do:"
   ]
  },
  {
   "cell_type": "code",
   "execution_count": 33,
   "id": "406f44a6",
   "metadata": {},
   "outputs": [
    {
     "data": {
      "text/html": [
       "<div>\n",
       "<style scoped>\n",
       "    .dataframe tbody tr th:only-of-type {\n",
       "        vertical-align: middle;\n",
       "    }\n",
       "\n",
       "    .dataframe tbody tr th {\n",
       "        vertical-align: top;\n",
       "    }\n",
       "\n",
       "    .dataframe thead th {\n",
       "        text-align: right;\n",
       "    }\n",
       "</style>\n",
       "<table border=\"1\" class=\"dataframe\">\n",
       "  <thead>\n",
       "    <tr style=\"text-align: right;\">\n",
       "      <th></th>\n",
       "      <th>passenger_id</th>\n",
       "      <th>survived</th>\n",
       "      <th>pclass</th>\n",
       "      <th>sex</th>\n",
       "      <th>age</th>\n",
       "      <th>sibsp</th>\n",
       "      <th>parch</th>\n",
       "      <th>fare</th>\n",
       "      <th>embarked</th>\n",
       "      <th>class</th>\n",
       "      <th>deck</th>\n",
       "      <th>embark_town</th>\n",
       "      <th>alone</th>\n",
       "    </tr>\n",
       "  </thead>\n",
       "  <tbody>\n",
       "    <tr>\n",
       "      <th>0</th>\n",
       "      <td>0</td>\n",
       "      <td>0</td>\n",
       "      <td>3</td>\n",
       "      <td>male</td>\n",
       "      <td>22.0</td>\n",
       "      <td>1</td>\n",
       "      <td>0</td>\n",
       "      <td>7.2500</td>\n",
       "      <td>S</td>\n",
       "      <td>Third</td>\n",
       "      <td>NaN</td>\n",
       "      <td>Southampton</td>\n",
       "      <td>0</td>\n",
       "    </tr>\n",
       "    <tr>\n",
       "      <th>1</th>\n",
       "      <td>1</td>\n",
       "      <td>1</td>\n",
       "      <td>1</td>\n",
       "      <td>female</td>\n",
       "      <td>38.0</td>\n",
       "      <td>1</td>\n",
       "      <td>0</td>\n",
       "      <td>71.2833</td>\n",
       "      <td>C</td>\n",
       "      <td>First</td>\n",
       "      <td>C</td>\n",
       "      <td>Cherbourg</td>\n",
       "      <td>0</td>\n",
       "    </tr>\n",
       "    <tr>\n",
       "      <th>2</th>\n",
       "      <td>2</td>\n",
       "      <td>1</td>\n",
       "      <td>3</td>\n",
       "      <td>female</td>\n",
       "      <td>26.0</td>\n",
       "      <td>0</td>\n",
       "      <td>0</td>\n",
       "      <td>7.9250</td>\n",
       "      <td>S</td>\n",
       "      <td>Third</td>\n",
       "      <td>NaN</td>\n",
       "      <td>Southampton</td>\n",
       "      <td>1</td>\n",
       "    </tr>\n",
       "    <tr>\n",
       "      <th>3</th>\n",
       "      <td>3</td>\n",
       "      <td>1</td>\n",
       "      <td>1</td>\n",
       "      <td>female</td>\n",
       "      <td>35.0</td>\n",
       "      <td>1</td>\n",
       "      <td>0</td>\n",
       "      <td>53.1000</td>\n",
       "      <td>S</td>\n",
       "      <td>First</td>\n",
       "      <td>C</td>\n",
       "      <td>Southampton</td>\n",
       "      <td>0</td>\n",
       "    </tr>\n",
       "    <tr>\n",
       "      <th>4</th>\n",
       "      <td>4</td>\n",
       "      <td>0</td>\n",
       "      <td>3</td>\n",
       "      <td>male</td>\n",
       "      <td>35.0</td>\n",
       "      <td>0</td>\n",
       "      <td>0</td>\n",
       "      <td>8.0500</td>\n",
       "      <td>S</td>\n",
       "      <td>Third</td>\n",
       "      <td>NaN</td>\n",
       "      <td>Southampton</td>\n",
       "      <td>1</td>\n",
       "    </tr>\n",
       "  </tbody>\n",
       "</table>\n",
       "</div>"
      ],
      "text/plain": [
       "   passenger_id  survived  pclass     sex   age  sibsp  parch     fare  \\\n",
       "0             0         0       3    male  22.0      1      0   7.2500   \n",
       "1             1         1       1  female  38.0      1      0  71.2833   \n",
       "2             2         1       3  female  26.0      0      0   7.9250   \n",
       "3             3         1       1  female  35.0      1      0  53.1000   \n",
       "4             4         0       3    male  35.0      0      0   8.0500   \n",
       "\n",
       "  embarked  class deck  embark_town  alone  \n",
       "0        S  Third  NaN  Southampton      0  \n",
       "1        C  First    C    Cherbourg      0  \n",
       "2        S  Third  NaN  Southampton      1  \n",
       "3        S  First    C  Southampton      0  \n",
       "4        S  Third  NaN  Southampton      1  "
      ]
     },
     "execution_count": 33,
     "metadata": {},
     "output_type": "execute_result"
    }
   ],
   "source": [
    "df = acquire.get_titanic_data()\n",
    "df.head()"
   ]
  },
  {
   "cell_type": "code",
   "execution_count": 34,
   "id": "c76b7bf5",
   "metadata": {},
   "outputs": [
    {
     "data": {
      "text/html": [
       "<div>\n",
       "<style scoped>\n",
       "    .dataframe tbody tr th:only-of-type {\n",
       "        vertical-align: middle;\n",
       "    }\n",
       "\n",
       "    .dataframe tbody tr th {\n",
       "        vertical-align: top;\n",
       "    }\n",
       "\n",
       "    .dataframe thead th {\n",
       "        text-align: right;\n",
       "    }\n",
       "</style>\n",
       "<table border=\"1\" class=\"dataframe\">\n",
       "  <thead>\n",
       "    <tr style=\"text-align: right;\">\n",
       "      <th></th>\n",
       "      <th>passenger_id</th>\n",
       "      <th>survived</th>\n",
       "      <th>pclass</th>\n",
       "      <th>sex</th>\n",
       "      <th>sibsp</th>\n",
       "      <th>parch</th>\n",
       "      <th>fare</th>\n",
       "      <th>embark_town</th>\n",
       "      <th>alone</th>\n",
       "      <th>sex_male</th>\n",
       "      <th>embark_town_Queenstown</th>\n",
       "      <th>embark_town_Southampton</th>\n",
       "    </tr>\n",
       "  </thead>\n",
       "  <tbody>\n",
       "    <tr>\n",
       "      <th>0</th>\n",
       "      <td>0</td>\n",
       "      <td>0</td>\n",
       "      <td>3</td>\n",
       "      <td>male</td>\n",
       "      <td>1</td>\n",
       "      <td>0</td>\n",
       "      <td>7.2500</td>\n",
       "      <td>Southampton</td>\n",
       "      <td>0</td>\n",
       "      <td>1</td>\n",
       "      <td>0</td>\n",
       "      <td>1</td>\n",
       "    </tr>\n",
       "    <tr>\n",
       "      <th>1</th>\n",
       "      <td>1</td>\n",
       "      <td>1</td>\n",
       "      <td>1</td>\n",
       "      <td>female</td>\n",
       "      <td>1</td>\n",
       "      <td>0</td>\n",
       "      <td>71.2833</td>\n",
       "      <td>Cherbourg</td>\n",
       "      <td>0</td>\n",
       "      <td>0</td>\n",
       "      <td>0</td>\n",
       "      <td>0</td>\n",
       "    </tr>\n",
       "    <tr>\n",
       "      <th>2</th>\n",
       "      <td>2</td>\n",
       "      <td>1</td>\n",
       "      <td>3</td>\n",
       "      <td>female</td>\n",
       "      <td>0</td>\n",
       "      <td>0</td>\n",
       "      <td>7.9250</td>\n",
       "      <td>Southampton</td>\n",
       "      <td>1</td>\n",
       "      <td>0</td>\n",
       "      <td>0</td>\n",
       "      <td>1</td>\n",
       "    </tr>\n",
       "    <tr>\n",
       "      <th>3</th>\n",
       "      <td>3</td>\n",
       "      <td>1</td>\n",
       "      <td>1</td>\n",
       "      <td>female</td>\n",
       "      <td>1</td>\n",
       "      <td>0</td>\n",
       "      <td>53.1000</td>\n",
       "      <td>Southampton</td>\n",
       "      <td>0</td>\n",
       "      <td>0</td>\n",
       "      <td>0</td>\n",
       "      <td>1</td>\n",
       "    </tr>\n",
       "    <tr>\n",
       "      <th>4</th>\n",
       "      <td>4</td>\n",
       "      <td>0</td>\n",
       "      <td>3</td>\n",
       "      <td>male</td>\n",
       "      <td>0</td>\n",
       "      <td>0</td>\n",
       "      <td>8.0500</td>\n",
       "      <td>Southampton</td>\n",
       "      <td>1</td>\n",
       "      <td>1</td>\n",
       "      <td>0</td>\n",
       "      <td>1</td>\n",
       "    </tr>\n",
       "  </tbody>\n",
       "</table>\n",
       "</div>"
      ],
      "text/plain": [
       "   passenger_id  survived  pclass     sex  sibsp  parch     fare  embark_town  \\\n",
       "0             0         0       3    male      1      0   7.2500  Southampton   \n",
       "1             1         1       1  female      1      0  71.2833    Cherbourg   \n",
       "2             2         1       3  female      0      0   7.9250  Southampton   \n",
       "3             3         1       1  female      1      0  53.1000  Southampton   \n",
       "4             4         0       3    male      0      0   8.0500  Southampton   \n",
       "\n",
       "   alone  sex_male  embark_town_Queenstown  embark_town_Southampton  \n",
       "0      0         1                       0                        1  \n",
       "1      0         0                       0                        0  \n",
       "2      1         0                       0                        1  \n",
       "3      0         0                       0                        1  \n",
       "4      1         1                       0                        1  "
      ]
     },
     "execution_count": 34,
     "metadata": {},
     "output_type": "execute_result"
    }
   ],
   "source": [
    "df = clean_data(df)\n",
    "df.head()"
   ]
  },
  {
   "cell_type": "code",
   "execution_count": null,
   "id": "b65cbf65",
   "metadata": {},
   "outputs": [],
   "source": []
  },
  {
   "cell_type": "code",
   "execution_count": null,
   "id": "bdbf2c6d",
   "metadata": {},
   "outputs": [],
   "source": []
  },
  {
   "cell_type": "code",
   "execution_count": null,
   "id": "7ac92a87",
   "metadata": {},
   "outputs": [],
   "source": []
  },
  {
   "cell_type": "markdown",
   "id": "2e577cd8",
   "metadata": {},
   "source": [
    "# Step 3: Splitting"
   ]
  },
  {
   "cell_type": "code",
   "execution_count": 35,
   "id": "be1b653b",
   "metadata": {},
   "outputs": [],
   "source": [
    "# 20% test, 80% train_validate\n",
    "# then of the 80% train_validate: 30% validate, 70% train. \n",
    "# function wants name of df and proportion of the split, 'stratify' makes sure that variable is equally well\n",
    "# represented in both sets\n",
    "train, test = train_test_split(df, test_size = .2, random_state = 123, stratify=df.survived)"
   ]
  },
  {
   "cell_type": "code",
   "execution_count": 36,
   "id": "91d445c2",
   "metadata": {},
   "outputs": [
    {
     "name": "stdout",
     "output_type": "stream",
     "text": [
      "(712, 12)\n",
      "(179, 12)\n"
     ]
    }
   ],
   "source": [
    "# Observe split\n",
    "print(train.shape)\n",
    "print(test.shape)"
   ]
  },
  {
   "cell_type": "code",
   "execution_count": 37,
   "id": "f1941b14",
   "metadata": {},
   "outputs": [],
   "source": [
    "train, validate = train_test_split(train, test_size = .3, random_state = 123, stratify=train.survived)"
   ]
  },
  {
   "cell_type": "code",
   "execution_count": 40,
   "id": "7a14f21f",
   "metadata": {},
   "outputs": [
    {
     "name": "stdout",
     "output_type": "stream",
     "text": [
      "Train: (498, 12)\n",
      "Test: (179, 12)\n",
      "Validate: (214, 12)\n"
     ]
    }
   ],
   "source": [
    "# Observe split\n",
    "print(f'Train: {train.shape}')\n",
    "print(f'Test: {test.shape}')\n",
    "print(f'Validate: {validate.shape}')"
   ]
  },
  {
   "cell_type": "markdown",
   "id": "cb53c31f",
   "metadata": {},
   "source": [
    "### Turn it into a function"
   ]
  },
  {
   "cell_type": "code",
   "execution_count": 42,
   "id": "4a0ae439",
   "metadata": {},
   "outputs": [],
   "source": [
    "def split_data(df):\n",
    "    '''\n",
    "    Takes in a dataframe and returns train, validate, test subset dataframes\n",
    "    '''\n",
    "    train, test = train_test_split(df, test_size = .2, random_state = 123, stratify=df.survived)\n",
    "    train, validate = train_test_split(train, test_size = .3, random_state = 123, stratify=train.survived)\n",
    "    return train, validate, test"
   ]
  },
  {
   "cell_type": "markdown",
   "id": "d30f94b1",
   "metadata": {},
   "source": [
    "Testing that the function is doing what we intend for it to do:"
   ]
  },
  {
   "cell_type": "code",
   "execution_count": 43,
   "id": "0a3c44d3",
   "metadata": {},
   "outputs": [
    {
     "name": "stdout",
     "output_type": "stream",
     "text": [
      "Train: (498, 12)\n",
      "Test: (179, 12)\n",
      "Validate: (214, 12)\n"
     ]
    }
   ],
   "source": [
    "train, validate, test = split_data(df)\n",
    "print(f'Train: {train.shape}')\n",
    "print(f'Test: {test.shape}')\n",
    "print(f'Validate: {validate.shape}')"
   ]
  },
  {
   "cell_type": "markdown",
   "id": "0f1ae7eb",
   "metadata": {},
   "source": [
    "# Alternative Method: Impute\n",
    "\n",
    "We can impute values using the mean, median, mode (most frequent), or a constant value. We will use sklearn.imputer.SimpleImputer to do this.\n",
    "\n",
    "1. Create the imputer object, selecting the strategy used to impute (mean, median or mode (strategy = 'most_frequent').\n",
    "1. Fit to train. This means compute the mean, median, or most_frequent (i.e. mode) for each of the columns that will be imputed. Store that value in the imputer object.\n",
    "1. Transform train: fill missing values in train dataset with the stored value\n",
    "1. Transform validate: fill missing values in validate dataset with the stored value\n",
    "1. Transform test: fill missing values in test dataset with the stored value"
   ]
  },
  {
   "cell_type": "code",
   "execution_count": 51,
   "id": "db45806d",
   "metadata": {},
   "outputs": [],
   "source": [
    "# Get fresh Titanic data to use with missing values in embark_town again.\n",
    "df = acquire.get_titanic_data()\n",
    "train, validate, test = split_data(df)"
   ]
  },
  {
   "cell_type": "code",
   "execution_count": 52,
   "id": "56eadf9c",
   "metadata": {},
   "outputs": [
    {
     "name": "stdout",
     "output_type": "stream",
     "text": [
      "<class 'pandas.core.frame.DataFrame'>\n",
      "Int64Index: 498 entries, 583 to 744\n",
      "Data columns (total 13 columns):\n",
      " #   Column        Non-Null Count  Dtype  \n",
      "---  ------        --------------  -----  \n",
      " 0   passenger_id  498 non-null    int64  \n",
      " 1   survived      498 non-null    int64  \n",
      " 2   pclass        498 non-null    int64  \n",
      " 3   sex           498 non-null    object \n",
      " 4   age           401 non-null    float64\n",
      " 5   sibsp         498 non-null    int64  \n",
      " 6   parch         498 non-null    int64  \n",
      " 7   fare          498 non-null    float64\n",
      " 8   embarked      497 non-null    object \n",
      " 9   class         498 non-null    object \n",
      " 10  deck          106 non-null    object \n",
      " 11  embark_town   497 non-null    object \n",
      " 12  alone         498 non-null    int64  \n",
      "dtypes: float64(2), int64(6), object(5)\n",
      "memory usage: 54.5+ KB\n"
     ]
    }
   ],
   "source": [
    "# ONLY look at train dataset after we split our data.\n",
    "train.info()"
   ]
  },
  {
   "cell_type": "markdown",
   "id": "b4eb6f5c",
   "metadata": {},
   "source": [
    "Create the `SimpleImputer` object, which we will store in the variable `imputer`. In the creation of the object, we will specify the strategy to use (mean, median, most_frequent). Essentially, this is creating the instructions and assigning them to a variable, `imputer`."
   ]
  },
  {
   "cell_type": "code",
   "execution_count": 53,
   "id": "beb5514a",
   "metadata": {},
   "outputs": [],
   "source": [
    "imputer = SimpleImputer(missing_values = np.nan, strategy='most_frequent')"
   ]
  },
  {
   "cell_type": "markdown",
   "id": "119fab39",
   "metadata": {},
   "source": [
    "`Fit` the imputer to the columns in the training df. This means that the imputer will determine the most_frequent value, or other value depending on the strategy called, for each column."
   ]
  },
  {
   "cell_type": "code",
   "execution_count": 54,
   "id": "52c49c23",
   "metadata": {},
   "outputs": [],
   "source": [
    "imputer = imputer.fit(train[['embark_town']])"
   ]
  },
  {
   "cell_type": "markdown",
   "id": "278a0d8e",
   "metadata": {},
   "source": [
    "It will store that value in the imputer object to use upon calling `transform`. We will call `transform` on our train, validate, and test datasets to fill any missing values."
   ]
  },
  {
   "cell_type": "code",
   "execution_count": 55,
   "id": "352b6bf3",
   "metadata": {},
   "outputs": [],
   "source": [
    "train[['embark_town']] = imputer.transform(train[['embark_town']])\n",
    "validate[['embark_town']] = imputer.transform(validate[['embark_town']])\n",
    "test[['embark_town']] = imputer.transform(test[['embark_town']])"
   ]
  },
  {
   "cell_type": "code",
   "execution_count": 56,
   "id": "a311ba70",
   "metadata": {},
   "outputs": [
    {
     "name": "stdout",
     "output_type": "stream",
     "text": [
      "Southampton    355\n",
      "Cherbourg      102\n",
      "Queenstown      41\n",
      "Name: embark_town, dtype: int64\n",
      "Southampton    160\n",
      "Cherbourg       38\n",
      "Queenstown      16\n",
      "Name: embark_town, dtype: int64\n",
      "Southampton    131\n",
      "Cherbourg       28\n",
      "Queenstown      20\n",
      "Name: embark_town, dtype: int64\n"
     ]
    }
   ],
   "source": [
    "# Validate that there are no longer any Null values in embark_town.\n",
    "print(train.embark_town.value_counts(dropna=False))\n",
    "print(validate.embark_town.value_counts(dropna=False))\n",
    "print(test.embark_town.value_counts(dropna=False))"
   ]
  },
  {
   "cell_type": "markdown",
   "id": "a30fc668",
   "metadata": {},
   "source": [
    "### Simplify our life with a function\n",
    "\n",
    "Note: the `clean_data()` function is already dealing with missing values. If we want to use imputation, we will need to go back and tweak our earlier function."
   ]
  },
  {
   "cell_type": "code",
   "execution_count": null,
   "id": "6fcb9539",
   "metadata": {},
   "outputs": [],
   "source": [
    "# Yay functions!\n",
    "def impute_mode(train, validate, test):\n",
    "    '''\n",
    "    Takes in train, validate and test and uses train to id the best value to replace nulls\n",
    "    Imputes that value into all 3 sets and returns them\n",
    "    '''\n",
    "    imputer = SimpleImputer(missing_values = np.nan, strategy='most_frequent')\n",
    "    imputer = imputer.fit(train[['embark_town']])\n",
    "    train[['embark_town']] = imputer.transform(train[['embark_town']])\n",
    "    validate[['embark_town']] = imputer.transform(validate[['embark_town']])\n",
    "    test[['embark_town']] = imputer.transform(test[['embark_town']])\n",
    "    return train, validate, test"
   ]
  },
  {
   "cell_type": "markdown",
   "id": "655c6368",
   "metadata": {},
   "source": [
    "### We can create a function made of our other functions"
   ]
  },
  {
   "cell_type": "code",
   "execution_count": 59,
   "id": "f6687d51",
   "metadata": {},
   "outputs": [],
   "source": [
    "# Another function? YES PLZ!\n",
    "def prep_titanic_data(df):\n",
    "    '''\n",
    "    Ultimate dishwasher\n",
    "    '''\n",
    "    df = clean_data(df)\n",
    "    train, validate, test = split_data(df)\n",
    "    return train, validate, test"
   ]
  },
  {
   "cell_type": "code",
   "execution_count": 60,
   "id": "86dbf4c2",
   "metadata": {},
   "outputs": [],
   "source": [
    "# Acquire fresh Titanic data to test my funtion.\n",
    "df = acquire.get_titanic_data()"
   ]
  },
  {
   "cell_type": "code",
   "execution_count": 61,
   "id": "996da379",
   "metadata": {},
   "outputs": [],
   "source": [
    "# Run final prepare function and validate what that the function is working properly.\n",
    "train, validate, test = prep_titanic_data(df)"
   ]
  },
  {
   "cell_type": "code",
   "execution_count": 62,
   "id": "3b9e0513",
   "metadata": {},
   "outputs": [
    {
     "name": "stdout",
     "output_type": "stream",
     "text": [
      "<class 'pandas.core.frame.DataFrame'>\n",
      "Int64Index: 498 entries, 583 to 744\n",
      "Data columns (total 12 columns):\n",
      " #   Column                   Non-Null Count  Dtype  \n",
      "---  ------                   --------------  -----  \n",
      " 0   passenger_id             498 non-null    int64  \n",
      " 1   survived                 498 non-null    int64  \n",
      " 2   pclass                   498 non-null    int64  \n",
      " 3   sex                      498 non-null    object \n",
      " 4   sibsp                    498 non-null    int64  \n",
      " 5   parch                    498 non-null    int64  \n",
      " 6   fare                     498 non-null    float64\n",
      " 7   embark_town              498 non-null    object \n",
      " 8   alone                    498 non-null    int64  \n",
      " 9   sex_male                 498 non-null    uint8  \n",
      " 10  embark_town_Queenstown   498 non-null    uint8  \n",
      " 11  embark_town_Southampton  498 non-null    uint8  \n",
      "dtypes: float64(1), int64(6), object(2), uint8(3)\n",
      "memory usage: 40.4+ KB\n"
     ]
    }
   ],
   "source": [
    "train.info()"
   ]
  },
  {
   "cell_type": "raw",
   "id": "d9911ca0",
   "metadata": {},
   "source": []
  },
  {
   "cell_type": "markdown",
   "id": "de80efa6",
   "metadata": {},
   "source": [
    "# Exercise Time"
   ]
  }
 ],
 "metadata": {
  "kernelspec": {
   "display_name": "Python 3",
   "language": "python",
   "name": "python3"
  },
  "language_info": {
   "codemirror_mode": {
    "name": "ipython",
    "version": 3
   },
   "file_extension": ".py",
   "mimetype": "text/x-python",
   "name": "python",
   "nbconvert_exporter": "python",
   "pygments_lexer": "ipython3",
   "version": "3.8.8"
  }
 },
 "nbformat": 4,
 "nbformat_minor": 5
}
