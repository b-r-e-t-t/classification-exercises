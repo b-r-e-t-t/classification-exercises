{
 "cells": [
  {
   "cell_type": "code",
   "execution_count": 1,
   "id": "115f967b",
   "metadata": {},
   "outputs": [],
   "source": [
    "import pandas as pd\n",
    "import numpy as np\n",
    "import seaborn as sns\n",
    "from pydataset import data"
   ]
  },
  {
   "cell_type": "code",
   "execution_count": 60,
   "id": "2ba0ddfc",
   "metadata": {},
   "outputs": [],
   "source": [
    "# Attendance Data\n",
    "# Load the attendance.csv file and calculate an attendnace percentage for each student. \n",
    "# One half day is worth 50% of a full day, and 10 tardies is equal to one absence.\n",
    "\n",
    "attendance_df = pd.read_csv('untidy-data/attendance.csv')"
   ]
  },
  {
   "cell_type": "code",
   "execution_count": 61,
   "id": "6a79191e",
   "metadata": {},
   "outputs": [],
   "source": [
    "attendance_df = attendance_df.rename(columns={\"Unnamed: 0\": \"Student\"})"
   ]
  },
  {
   "cell_type": "code",
   "execution_count": 62,
   "id": "27ed8fb1",
   "metadata": {},
   "outputs": [],
   "source": [
    "tidy_attendance = attendance_df.melt(id_vars=['Student'], var_name='status')"
   ]
  },
  {
   "cell_type": "code",
   "execution_count": 63,
   "id": "08885920",
   "metadata": {},
   "outputs": [],
   "source": [
    "for i in range(len(tidy_attendance)):\n",
    "    if tidy_attendance.value[i] == 'P':\n",
    "        tidy_attendance.value[i] = float(1)\n",
    "    elif tidy_attendance.value[i] == 'H':\n",
    "        tidy_attendance.value[i] = float(.5)\n",
    "    elif tidy_attendance.value[i] == 'T':\n",
    "        tidy_attendance.value[i] = float(.9)\n",
    "    elif tidy_attendance.value[i] == 'A':\n",
    "        tidy_attendance.value[i] = float(0)\n",
    "    else:\n",
    "        print(\"There is a glitch in the matrix\")"
   ]
  },
  {
   "cell_type": "code",
   "execution_count": 64,
   "id": "d2220e2e",
   "metadata": {},
   "outputs": [],
   "source": [
    "tidy_attendance = tidy_attendance.astype({'value': 'float'})"
   ]
  },
  {
   "cell_type": "code",
   "execution_count": 65,
   "id": "34090b7b",
   "metadata": {},
   "outputs": [
    {
     "data": {
      "text/plain": [
       "Student\n",
       "Billy    0.5250\n",
       "Jane     0.6875\n",
       "John     0.9125\n",
       "Sally    0.7625\n",
       "Name: value, dtype: float64"
      ]
     },
     "execution_count": 65,
     "metadata": {},
     "output_type": "execute_result"
    }
   ],
   "source": [
    "tidy_attendance.groupby('Student').value.mean()"
   ]
  },
  {
   "cell_type": "code",
   "execution_count": 66,
   "id": "70beb164",
   "metadata": {},
   "outputs": [
    {
     "data": {
      "text/plain": [
       "dtype('float64')"
      ]
     },
     "execution_count": 66,
     "metadata": {},
     "output_type": "execute_result"
    }
   ],
   "source": [
    "tidy_attendance.value.dtype"
   ]
  },
  {
   "cell_type": "code",
   "execution_count": 69,
   "id": "c6779798",
   "metadata": {},
   "outputs": [
    {
     "data": {
      "text/html": [
       "<div>\n",
       "<style scoped>\n",
       "    .dataframe tbody tr th:only-of-type {\n",
       "        vertical-align: middle;\n",
       "    }\n",
       "\n",
       "    .dataframe tbody tr th {\n",
       "        vertical-align: top;\n",
       "    }\n",
       "\n",
       "    .dataframe thead th {\n",
       "        text-align: right;\n",
       "    }\n",
       "</style>\n",
       "<table border=\"1\" class=\"dataframe\">\n",
       "  <thead>\n",
       "    <tr style=\"text-align: right;\">\n",
       "      <th></th>\n",
       "      <th>hour</th>\n",
       "      <th>coffee_carafe</th>\n",
       "      <th>coffee_amount</th>\n",
       "    </tr>\n",
       "  </thead>\n",
       "  <tbody>\n",
       "    <tr>\n",
       "      <th>0</th>\n",
       "      <td>8</td>\n",
       "      <td>x</td>\n",
       "      <td>0.816164</td>\n",
       "    </tr>\n",
       "    <tr>\n",
       "      <th>1</th>\n",
       "      <td>9</td>\n",
       "      <td>x</td>\n",
       "      <td>0.451018</td>\n",
       "    </tr>\n",
       "    <tr>\n",
       "      <th>2</th>\n",
       "      <td>10</td>\n",
       "      <td>x</td>\n",
       "      <td>0.843279</td>\n",
       "    </tr>\n",
       "    <tr>\n",
       "      <th>3</th>\n",
       "      <td>11</td>\n",
       "      <td>x</td>\n",
       "      <td>0.335533</td>\n",
       "    </tr>\n",
       "    <tr>\n",
       "      <th>4</th>\n",
       "      <td>12</td>\n",
       "      <td>x</td>\n",
       "      <td>0.898291</td>\n",
       "    </tr>\n",
       "  </tbody>\n",
       "</table>\n",
       "</div>"
      ],
      "text/plain": [
       "   hour coffee_carafe  coffee_amount\n",
       "0     8             x       0.816164\n",
       "1     9             x       0.451018\n",
       "2    10             x       0.843279\n",
       "3    11             x       0.335533\n",
       "4    12             x       0.898291"
      ]
     },
     "execution_count": 69,
     "metadata": {},
     "output_type": "execute_result"
    }
   ],
   "source": [
    "# Read the coffee_levels.csv file.\n",
    "coffee_df = pd.read_csv('untidy-data/coffee_levels.csv')"
   ]
  },
  {
   "cell_type": "code",
   "execution_count": 70,
   "id": "7a693018",
   "metadata": {},
   "outputs": [
    {
     "name": "stdout",
     "output_type": "stream",
     "text": [
      "<class 'pandas.core.frame.DataFrame'>\n",
      "RangeIndex: 30 entries, 0 to 29\n",
      "Data columns (total 3 columns):\n",
      " #   Column         Non-Null Count  Dtype  \n",
      "---  ------         --------------  -----  \n",
      " 0   hour           30 non-null     int64  \n",
      " 1   coffee_carafe  30 non-null     object \n",
      " 2   coffee_amount  30 non-null     float64\n",
      "dtypes: float64(1), int64(1), object(1)\n",
      "memory usage: 848.0+ bytes\n"
     ]
    }
   ],
   "source": [
    "coffee_df.info()"
   ]
  },
  {
   "cell_type": "code",
   "execution_count": 71,
   "id": "c6866034",
   "metadata": {},
   "outputs": [
    {
     "data": {
      "text/plain": [
       "hour  coffee_carafe  coffee_amount\n",
       "8     x              0.816164         1\n",
       "      y              0.189297         1\n",
       "17    y              0.594126         1\n",
       "      x              0.391560         1\n",
       "16    z              0.280621         1\n",
       "      y              0.544676         1\n",
       "      x              0.183891         1\n",
       "15    z              0.436364         1\n",
       "      y              0.144644         1\n",
       "      x              0.215043         1\n",
       "14    z              0.864464         1\n",
       "      y              0.058361         1\n",
       "      x              0.507288         1\n",
       "13    z              0.398520         1\n",
       "      y              0.997464         1\n",
       "      x              0.310711         1\n",
       "12    z              0.771947         1\n",
       "      y              0.017009         1\n",
       "      x              0.898291         1\n",
       "11    z              0.311495         1\n",
       "      y              0.235529         1\n",
       "      x              0.335533         1\n",
       "10    z              0.144928         1\n",
       "      y              0.023163         1\n",
       "      x              0.843279         1\n",
       "9     z              0.915990         1\n",
       "      y              0.521502         1\n",
       "      x              0.451018         1\n",
       "8     z              0.999264         1\n",
       "17    z              0.436677         1\n",
       "dtype: int64"
      ]
     },
     "execution_count": 71,
     "metadata": {},
     "output_type": "execute_result"
    }
   ],
   "source": [
    "coffee_df.value_counts()"
   ]
  },
  {
   "cell_type": "code",
   "execution_count": 72,
   "id": "32dfd31c",
   "metadata": {},
   "outputs": [],
   "source": [
    "# Transform the data so that each carafe is in it's own column.\n",
    "coffee_pivot = coffee_df.pivot_table(index = ['hour'],\n",
    "                    columns = 'coffee_carafe',\n",
    "                    values = 'coffee_amount').reset_index()"
   ]
  },
  {
   "cell_type": "code",
   "execution_count": 73,
   "id": "a9c0b3b8",
   "metadata": {},
   "outputs": [
    {
     "data": {
      "text/html": [
       "<div>\n",
       "<style scoped>\n",
       "    .dataframe tbody tr th:only-of-type {\n",
       "        vertical-align: middle;\n",
       "    }\n",
       "\n",
       "    .dataframe tbody tr th {\n",
       "        vertical-align: top;\n",
       "    }\n",
       "\n",
       "    .dataframe thead th {\n",
       "        text-align: right;\n",
       "    }\n",
       "</style>\n",
       "<table border=\"1\" class=\"dataframe\">\n",
       "  <thead>\n",
       "    <tr style=\"text-align: right;\">\n",
       "      <th>coffee_carafe</th>\n",
       "      <th>hour</th>\n",
       "      <th>x</th>\n",
       "      <th>y</th>\n",
       "      <th>z</th>\n",
       "    </tr>\n",
       "  </thead>\n",
       "  <tbody>\n",
       "    <tr>\n",
       "      <th>0</th>\n",
       "      <td>8</td>\n",
       "      <td>0.816164</td>\n",
       "      <td>0.189297</td>\n",
       "      <td>0.999264</td>\n",
       "    </tr>\n",
       "    <tr>\n",
       "      <th>1</th>\n",
       "      <td>9</td>\n",
       "      <td>0.451018</td>\n",
       "      <td>0.521502</td>\n",
       "      <td>0.915990</td>\n",
       "    </tr>\n",
       "    <tr>\n",
       "      <th>2</th>\n",
       "      <td>10</td>\n",
       "      <td>0.843279</td>\n",
       "      <td>0.023163</td>\n",
       "      <td>0.144928</td>\n",
       "    </tr>\n",
       "    <tr>\n",
       "      <th>3</th>\n",
       "      <td>11</td>\n",
       "      <td>0.335533</td>\n",
       "      <td>0.235529</td>\n",
       "      <td>0.311495</td>\n",
       "    </tr>\n",
       "    <tr>\n",
       "      <th>4</th>\n",
       "      <td>12</td>\n",
       "      <td>0.898291</td>\n",
       "      <td>0.017009</td>\n",
       "      <td>0.771947</td>\n",
       "    </tr>\n",
       "    <tr>\n",
       "      <th>5</th>\n",
       "      <td>13</td>\n",
       "      <td>0.310711</td>\n",
       "      <td>0.997464</td>\n",
       "      <td>0.398520</td>\n",
       "    </tr>\n",
       "    <tr>\n",
       "      <th>6</th>\n",
       "      <td>14</td>\n",
       "      <td>0.507288</td>\n",
       "      <td>0.058361</td>\n",
       "      <td>0.864464</td>\n",
       "    </tr>\n",
       "    <tr>\n",
       "      <th>7</th>\n",
       "      <td>15</td>\n",
       "      <td>0.215043</td>\n",
       "      <td>0.144644</td>\n",
       "      <td>0.436364</td>\n",
       "    </tr>\n",
       "    <tr>\n",
       "      <th>8</th>\n",
       "      <td>16</td>\n",
       "      <td>0.183891</td>\n",
       "      <td>0.544676</td>\n",
       "      <td>0.280621</td>\n",
       "    </tr>\n",
       "    <tr>\n",
       "      <th>9</th>\n",
       "      <td>17</td>\n",
       "      <td>0.391560</td>\n",
       "      <td>0.594126</td>\n",
       "      <td>0.436677</td>\n",
       "    </tr>\n",
       "  </tbody>\n",
       "</table>\n",
       "</div>"
      ],
      "text/plain": [
       "coffee_carafe  hour         x         y         z\n",
       "0                 8  0.816164  0.189297  0.999264\n",
       "1                 9  0.451018  0.521502  0.915990\n",
       "2                10  0.843279  0.023163  0.144928\n",
       "3                11  0.335533  0.235529  0.311495\n",
       "4                12  0.898291  0.017009  0.771947\n",
       "5                13  0.310711  0.997464  0.398520\n",
       "6                14  0.507288  0.058361  0.864464\n",
       "7                15  0.215043  0.144644  0.436364\n",
       "8                16  0.183891  0.544676  0.280621\n",
       "9                17  0.391560  0.594126  0.436677"
      ]
     },
     "execution_count": 73,
     "metadata": {},
     "output_type": "execute_result"
    }
   ],
   "source": [
    "coffee_pivot"
   ]
  },
  {
   "cell_type": "code",
   "execution_count": 74,
   "id": "9e6af049",
   "metadata": {},
   "outputs": [],
   "source": [
    "# Read the cake_recipes.csv data. This data set contains cake tastiness scores for combinations \n",
    "# of different recipes, oven rack positions, and oven temperatures.\n",
    "\n",
    "cake_df = pd.read_csv('untidy-data/cake_recipes.csv')"
   ]
  },
  {
   "cell_type": "code",
   "execution_count": 75,
   "id": "5e49486c",
   "metadata": {},
   "outputs": [
    {
     "name": "stdout",
     "output_type": "stream",
     "text": [
      "<class 'pandas.core.frame.DataFrame'>\n",
      "RangeIndex: 8 entries, 0 to 7\n",
      "Data columns (total 5 columns):\n",
      " #   Column           Non-Null Count  Dtype  \n",
      "---  ------           --------------  -----  \n",
      " 0   recipe:position  8 non-null      object \n",
      " 1   225              8 non-null      float64\n",
      " 2   250              8 non-null      float64\n",
      " 3   275              8 non-null      float64\n",
      " 4   300              8 non-null      float64\n",
      "dtypes: float64(4), object(1)\n",
      "memory usage: 448.0+ bytes\n"
     ]
    }
   ],
   "source": [
    "cake_df.info()"
   ]
  },
  {
   "cell_type": "code",
   "execution_count": 76,
   "id": "8072dff3",
   "metadata": {},
   "outputs": [
    {
     "data": {
      "text/plain": [
       "recipe:position  225        250        275        300      \n",
       "a:bottom         61.738655  53.912627  74.414730  98.786784    1\n",
       "a:top            51.709751  52.009735  68.576858  50.228470    1\n",
       "b:bottom         57.095320  61.904369  61.196980  99.248541    1\n",
       "b:top            82.455004  95.224151  98.594881  58.169349    1\n",
       "c:bottom         96.470207  52.001358  92.893227  65.473084    1\n",
       "c:top            71.306308  82.795477  92.098049  53.960273    1\n",
       "d:bottom         52.799753  58.670419  51.747686  56.183110    1\n",
       "d:top            96.873178  76.101363  59.571620  50.971626    1\n",
       "dtype: int64"
      ]
     },
     "execution_count": 76,
     "metadata": {},
     "output_type": "execute_result"
    }
   ],
   "source": [
    "cake_df.value_counts()"
   ]
  },
  {
   "cell_type": "code",
   "execution_count": 79,
   "id": "f55111ed",
   "metadata": {},
   "outputs": [],
   "source": [
    "# Tidy the data as necessary.\n",
    "cake_df['recipe:position'].str.split(\":\", expand = True)\n",
    "cake_df[['recipe', 'position']] = cake_df['recipe:position'].str.split(':', expand = True)\n",
    "cake_df.drop(columns = 'recipe:position', inplace = True)"
   ]
  },
  {
   "cell_type": "code",
   "execution_count": 80,
   "id": "9f77527c",
   "metadata": {},
   "outputs": [
    {
     "data": {
      "text/html": [
       "<div>\n",
       "<style scoped>\n",
       "    .dataframe tbody tr th:only-of-type {\n",
       "        vertical-align: middle;\n",
       "    }\n",
       "\n",
       "    .dataframe tbody tr th {\n",
       "        vertical-align: top;\n",
       "    }\n",
       "\n",
       "    .dataframe thead th {\n",
       "        text-align: right;\n",
       "    }\n",
       "</style>\n",
       "<table border=\"1\" class=\"dataframe\">\n",
       "  <thead>\n",
       "    <tr style=\"text-align: right;\">\n",
       "      <th></th>\n",
       "      <th>recipe</th>\n",
       "      <th>position</th>\n",
       "      <th>temperature</th>\n",
       "      <th>score</th>\n",
       "    </tr>\n",
       "  </thead>\n",
       "  <tbody>\n",
       "    <tr>\n",
       "      <th>0</th>\n",
       "      <td>a</td>\n",
       "      <td>bottom</td>\n",
       "      <td>225</td>\n",
       "      <td>61.738655</td>\n",
       "    </tr>\n",
       "    <tr>\n",
       "      <th>1</th>\n",
       "      <td>a</td>\n",
       "      <td>top</td>\n",
       "      <td>225</td>\n",
       "      <td>51.709751</td>\n",
       "    </tr>\n",
       "    <tr>\n",
       "      <th>2</th>\n",
       "      <td>b</td>\n",
       "      <td>bottom</td>\n",
       "      <td>225</td>\n",
       "      <td>57.095320</td>\n",
       "    </tr>\n",
       "    <tr>\n",
       "      <th>3</th>\n",
       "      <td>b</td>\n",
       "      <td>top</td>\n",
       "      <td>225</td>\n",
       "      <td>82.455004</td>\n",
       "    </tr>\n",
       "    <tr>\n",
       "      <th>4</th>\n",
       "      <td>c</td>\n",
       "      <td>bottom</td>\n",
       "      <td>225</td>\n",
       "      <td>96.470207</td>\n",
       "    </tr>\n",
       "  </tbody>\n",
       "</table>\n",
       "</div>"
      ],
      "text/plain": [
       "  recipe position temperature      score\n",
       "0      a   bottom         225  61.738655\n",
       "1      a      top         225  51.709751\n",
       "2      b   bottom         225  57.095320\n",
       "3      b      top         225  82.455004\n",
       "4      c   bottom         225  96.470207"
      ]
     },
     "execution_count": 80,
     "metadata": {},
     "output_type": "execute_result"
    }
   ],
   "source": [
    "# Melt data\n",
    "cake_df_melt = cake_df.melt(id_vars = ['recipe', 'position'], var_name = 'temperature', value_name = 'score')\n",
    "cake_df_melt.head()"
   ]
  },
  {
   "cell_type": "code",
   "execution_count": 83,
   "id": "88dd088b",
   "metadata": {},
   "outputs": [
    {
     "name": "stdout",
     "output_type": "stream",
     "text": [
      "The best recipe is b  with score of 76.7\n"
     ]
    }
   ],
   "source": [
    "# Which recipe, on average, is the best?\n",
    "cake_df_melt.groupby(['recipe']).score.mean()\n",
    "best_recipe = cake_df_melt.groupby(['recipe']).score.mean().idxmax()\n",
    "best_score = cake_df_melt.groupby(['recipe']).score.mean().max()\n",
    "print('The best recipe is', best_recipe, 'with score of', round(best_score, 2))"
   ]
  },
  {
   "cell_type": "code",
   "execution_count": 84,
   "id": "72f6f4d1",
   "metadata": {},
   "outputs": [
    {
     "name": "stdout",
     "output_type": "stream",
     "text": [
      "The best temperature is 275 with score of 74.89\n"
     ]
    }
   ],
   "source": [
    "# Which oven temperature, on average, produces the best results?\n",
    "cake_df_melt.groupby('temperature').score.mean()\n",
    "best_temp = cake_df_melt.groupby(['temperature']).score.mean().idxmax()\n",
    "best_score = cake_df_melt.groupby(['temperature']).score.mean().max()\n",
    "print('The best temperature is', best_temp, 'with score of', round(best_score, 2))"
   ]
  },
  {
   "cell_type": "code",
   "execution_count": 87,
   "id": "1412422a",
   "metadata": {},
   "outputs": [
    {
     "name": "stdout",
     "output_type": "stream",
     "text": [
      "The best combination is ('300', 'b', 'bottom') with score of 99.25\n"
     ]
    }
   ],
   "source": [
    "# Which combination of recipe, rack position, and temperature gives the best result?\n",
    "cake_df_melt.groupby(['temperature', 'recipe', 'position']).score.mean()\n",
    "best_comb = cake_df_melt.groupby(['temperature', 'recipe', 'position']).score.mean().idxmax()\n",
    "best_score = cake_df_melt.groupby(['temperature', 'recipe', 'position']).score.mean().max()\n",
    "print('The best combination is', best_comb, 'with score of', round(best_score, 2))"
   ]
  },
  {
   "cell_type": "code",
   "execution_count": null,
   "id": "f5c710d3",
   "metadata": {},
   "outputs": [],
   "source": []
  }
 ],
 "metadata": {
  "kernelspec": {
   "display_name": "Python 3",
   "language": "python",
   "name": "python3"
  },
  "language_info": {
   "codemirror_mode": {
    "name": "ipython",
    "version": 3
   },
   "file_extension": ".py",
   "mimetype": "text/x-python",
   "name": "python",
   "nbconvert_exporter": "python",
   "pygments_lexer": "ipython3",
   "version": "3.8.8"
  }
 },
 "nbformat": 4,
 "nbformat_minor": 5
}
